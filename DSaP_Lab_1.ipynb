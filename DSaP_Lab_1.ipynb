{
  "cells": [
    {
      "cell_type": "markdown",
      "metadata": {
        "id": "view-in-github",
        "colab_type": "text"
      },
      "source": [
        "<a href=\"https://colab.research.google.com/github/5fatya/Data-structure-Processing/blob/main/DSaP_Lab_1.ipynb\" target=\"_parent\"><img src=\"https://colab.research.google.com/assets/colab-badge.svg\" alt=\"Open In Colab\"/></a>"
      ]
    },
    {
      "cell_type": "markdown",
      "id": "e1c2ee7c-5e61-4ea4-914e-4ad1b56cb993",
      "metadata": {
        "nbgrader": {
          "grade": false,
          "grade_id": "cell-ec29fc9019ca542a",
          "locked": true,
          "schema_version": 3,
          "solution": false,
          "task": false
        },
        "id": "e1c2ee7c-5e61-4ea4-914e-4ad1b56cb993"
      },
      "source": [
        "# Data Structures and Processing\n",
        "\n",
        "## Week 1: Introduction to Python"
      ]
    },
    {
      "cell_type": "markdown",
      "id": "383617d9-140a-478b-bcba-8c1ed5e6d804",
      "metadata": {
        "nbgrader": {
          "grade": false,
          "grade_id": "cell-0bf739a2261db2a4",
          "locked": true,
          "schema_version": 3,
          "solution": false,
          "task": false
        },
        "tags": [],
        "id": "383617d9-140a-478b-bcba-8c1ed5e6d804"
      },
      "source": [
        "## Name / Variable: First Encounter\n",
        "\n",
        "In many of the programming languages, it is unnecceary to declare the type of an object before declaring it. In addition to that if a name is already in use for an object of certain type, it could be used for an object of another type.  This phenomemon is rephrased as \"dynamically typed language\".\n",
        "\n",
        "Let us consider an example.  We reserve the name `x` for the variable and assign it first and integer and then assign it a string.\n",
        "\n",
        "We are using the `print`function to print the output of a certain evaluation.  Otherwise, the last evaluated result is printed."
      ]
    },
    {
      "cell_type": "code",
      "execution_count": null,
      "id": "dfc7ae77-fd18-4fda-9ffc-aa9e3c0a0b48",
      "metadata": {
        "editable": true,
        "nbgrader": {
          "grade": false,
          "grade_id": "cell-2166475b94455862",
          "locked": true,
          "schema_version": 3,
          "solution": false,
          "task": false
        },
        "tags": [],
        "id": "dfc7ae77-fd18-4fda-9ffc-aa9e3c0a0b48",
        "outputId": "50ba4a96-9413-46a4-e295-c2155aa748ac"
      },
      "outputs": [
        {
          "name": "stdout",
          "output_type": "stream",
          "text": [
            "The value of x:  2\n",
            "The type of x:  <class 'int'>\n",
            "The value of x:  Data Structures and Processing\n",
            "The type of x:  <class 'str'>\n"
          ]
        }
      ],
      "source": [
        "x = 2                        # x is of type int\n",
        "tx = type(x)\n",
        "print(\"The value of x: \", x)\n",
        "print(\"The type of x: \", tx)\n",
        "\n",
        "x = \"Data Structures and Processing\"\n",
        "tx = type(x)\n",
        "print(\"The value of x: \", x)\n",
        "print(\"The type of x: \", tx)"
      ]
    },
    {
      "cell_type": "markdown",
      "id": "e36f9ef5-5b2a-4c8c-8354-3f4302956c28",
      "metadata": {
        "nbgrader": {
          "grade": false,
          "grade_id": "cell-2609950fdbfc186d",
          "locked": true,
          "schema_version": 3,
          "solution": false,
          "task": false
        },
        "id": "e36f9ef5-5b2a-4c8c-8354-3f4302956c28"
      },
      "source": [
        "### Task\n",
        "\n",
        "Choose a variable name.  Assign it an object of your choice: `int`, `str`, `list`,....  Print your choosen value and its type.  Now assign the same variable a different object and do the same (printing value and its type)."
      ]
    },
    {
      "cell_type": "code",
      "execution_count": null,
      "id": "4a7b43fa-0654-4407-80bf-f19d59b9c65d",
      "metadata": {
        "editable": true,
        "nbgrader": {
          "grade": true,
          "grade_id": "cell-da7a238e7101d895",
          "locked": false,
          "points": 2,
          "schema_version": 3,
          "solution": true,
          "task": false
        },
        "tags": [],
        "colab": {
          "base_uri": "https://localhost:8080/"
        },
        "id": "4a7b43fa-0654-4407-80bf-f19d59b9c65d",
        "outputId": "3587b622-67f5-4ff5-d3dd-71efee9519c9"
      },
      "outputs": [
        {
          "output_type": "stream",
          "name": "stdout",
          "text": [
            "Value of my_var: 10\n",
            "Type of my_var: <class 'int'>\n",
            "\n",
            "Value of my_var after reassignment: Python is dynamic\n",
            "Type of my_var after reassignment: <class 'str'>\n"
          ]
        }
      ],
      "source": [
        "\n",
        "my_var = 10\n",
        "print(\"Value of my_var:\", my_var)\n",
        "print(\"Type of my_var:\",  type(my_var))\n",
        "my_var = \"Python is dynamic\"\n",
        "print(\"\\nValue of my_var after reassignment:\", my_var)\n",
        "print(\"Type of my_var after reassignment:\", type(my_var))\n"
      ]
    },
    {
      "cell_type": "markdown",
      "id": "3f6956ef-7f54-4206-84dc-ef05bb7314e3",
      "metadata": {
        "nbgrader": {
          "grade": false,
          "grade_id": "cell-57450ddda4fb2e9d",
          "locked": true,
          "schema_version": 3,
          "solution": false,
          "task": false
        },
        "id": "3f6956ef-7f54-4206-84dc-ef05bb7314e3"
      },
      "source": [
        "## Attributes\n",
        "\n",
        "Recall that objects have attributes. Some of them are callable, and other return some information about the associated object directly.  A helpful function to list all the attributes of an object of a certain class is `dir`.  We use use `dir(x)`, where `x`is the name of the variable whose attributes we want to list, or if we know the class name, we simply type `dir(class_name)`.\n",
        "\n",
        "Let us take an example.\n",
        "\n",
        "We assign a float to variable `x` and list its attributes."
      ]
    },
    {
      "cell_type": "code",
      "execution_count": null,
      "id": "da9e3fb1-69ea-4499-860c-7c0b58539612",
      "metadata": {
        "nbgrader": {
          "grade": false,
          "grade_id": "cell-4e353d58f7b571aa",
          "locked": true,
          "schema_version": 3,
          "solution": false,
          "task": false
        },
        "scrolled": true,
        "id": "da9e3fb1-69ea-4499-860c-7c0b58539612",
        "outputId": "1ea3c6cc-8c83-482c-d3db-bb40e9ce88da"
      },
      "outputs": [
        {
          "data": {
            "text/plain": [
              "['__abs__',\n",
              " '__add__',\n",
              " '__bool__',\n",
              " '__ceil__',\n",
              " '__class__',\n",
              " '__delattr__',\n",
              " '__dir__',\n",
              " '__divmod__',\n",
              " '__doc__',\n",
              " '__eq__',\n",
              " '__float__',\n",
              " '__floor__',\n",
              " '__floordiv__',\n",
              " '__format__',\n",
              " '__ge__',\n",
              " '__getattribute__',\n",
              " '__getformat__',\n",
              " '__getnewargs__',\n",
              " '__getstate__',\n",
              " '__gt__',\n",
              " '__hash__',\n",
              " '__init__',\n",
              " '__init_subclass__',\n",
              " '__int__',\n",
              " '__le__',\n",
              " '__lt__',\n",
              " '__mod__',\n",
              " '__mul__',\n",
              " '__ne__',\n",
              " '__neg__',\n",
              " '__new__',\n",
              " '__pos__',\n",
              " '__pow__',\n",
              " '__radd__',\n",
              " '__rdivmod__',\n",
              " '__reduce__',\n",
              " '__reduce_ex__',\n",
              " '__repr__',\n",
              " '__rfloordiv__',\n",
              " '__rmod__',\n",
              " '__rmul__',\n",
              " '__round__',\n",
              " '__rpow__',\n",
              " '__rsub__',\n",
              " '__rtruediv__',\n",
              " '__setattr__',\n",
              " '__sizeof__',\n",
              " '__str__',\n",
              " '__sub__',\n",
              " '__subclasshook__',\n",
              " '__truediv__',\n",
              " '__trunc__',\n",
              " 'as_integer_ratio',\n",
              " 'conjugate',\n",
              " 'fromhex',\n",
              " 'hex',\n",
              " 'imag',\n",
              " 'is_integer',\n",
              " 'real']"
            ]
          },
          "execution_count": 2,
          "metadata": {},
          "output_type": "execute_result"
        }
      ],
      "source": [
        "x = 3.1415\n",
        "dir(x)"
      ]
    },
    {
      "cell_type": "markdown",
      "id": "ee09e56f-ec4f-447e-86d1-182bad9c8681",
      "metadata": {
        "nbgrader": {
          "grade": false,
          "grade_id": "cell-121cf18625297808",
          "locked": true,
          "schema_version": 3,
          "solution": false,
          "task": false
        },
        "id": "ee09e56f-ec4f-447e-86d1-182bad9c8681"
      },
      "source": [
        "Let us say at this point, we have done some work and we are not sure if our variable has integer stored in it or a float.  We see in the above list that there is an attribute `is_integer`.  That sounds promising for our purpose.  So we use it as follows."
      ]
    },
    {
      "cell_type": "code",
      "execution_count": null,
      "id": "4dc7efed-1391-45e3-a674-94d660aae6e6",
      "metadata": {
        "nbgrader": {
          "grade": false,
          "grade_id": "cell-d46dac14da8a17a4",
          "locked": true,
          "schema_version": 3,
          "solution": false,
          "task": false
        },
        "id": "4dc7efed-1391-45e3-a674-94d660aae6e6",
        "outputId": "0d8ef28b-a3d4-4432-a0b5-96526053d6a4"
      },
      "outputs": [
        {
          "data": {
            "text/plain": [
              "<function float.is_integer()>"
            ]
          },
          "execution_count": 3,
          "metadata": {},
          "output_type": "execute_result"
        }
      ],
      "source": [
        "x.is_integer"
      ]
    },
    {
      "cell_type": "markdown",
      "id": "aa707730-1ef9-46dc-a86b-4a1ff5417f89",
      "metadata": {
        "nbgrader": {
          "grade": false,
          "grade_id": "cell-b609d7c4030ac8b7",
          "locked": true,
          "schema_version": 3,
          "solution": false,
          "task": false
        },
        "id": "aa707730-1ef9-46dc-a86b-4a1ff5417f89"
      },
      "source": [
        "The output of above call is not what we wanted.  A Python user of some experience would know what to do at this point.  But we assume that we do not know.  The next step would be to get some help.  Help is called as follows."
      ]
    },
    {
      "cell_type": "code",
      "execution_count": null,
      "id": "d856bf02-1d47-4305-8663-7042a0b72916",
      "metadata": {
        "nbgrader": {
          "grade": false,
          "grade_id": "cell-c48ae6886130145e",
          "locked": true,
          "schema_version": 3,
          "solution": false,
          "task": false
        },
        "id": "d856bf02-1d47-4305-8663-7042a0b72916",
        "outputId": "cd3ef33e-9b83-4b97-ef6d-9f74c6f03afe"
      },
      "outputs": [
        {
          "name": "stdout",
          "output_type": "stream",
          "text": [
            "Help on built-in function is_integer:\n",
            "\n",
            "is_integer() method of builtins.float instance\n",
            "    Return True if the float is an integer.\n",
            "\n"
          ]
        }
      ],
      "source": [
        "help(x.is_integer)"
      ]
    },
    {
      "cell_type": "markdown",
      "id": "7328652a-0523-4c2e-a987-530a7b4919ab",
      "metadata": {
        "nbgrader": {
          "grade": false,
          "grade_id": "cell-888541a838a718f9",
          "locked": true,
          "schema_version": 3,
          "solution": false,
          "task": false
        },
        "id": "7328652a-0523-4c2e-a987-530a7b4919ab"
      },
      "source": [
        "The help suggest that we use it with parenthesis at the end. It is a callable method.  Now let us try one more time."
      ]
    },
    {
      "cell_type": "code",
      "execution_count": null,
      "id": "240996d9-b695-4ad5-b9ae-f345c56d944a",
      "metadata": {
        "nbgrader": {
          "grade": false,
          "grade_id": "cell-98e738d6713fb21d",
          "locked": true,
          "schema_version": 3,
          "solution": false,
          "task": false
        },
        "id": "240996d9-b695-4ad5-b9ae-f345c56d944a",
        "outputId": "2273a1ad-0f80-4725-bc50-b2edaaaab426"
      },
      "outputs": [
        {
          "data": {
            "text/plain": [
              "False"
            ]
          },
          "execution_count": 5,
          "metadata": {},
          "output_type": "execute_result"
        }
      ],
      "source": [
        "x.is_integer()  # It should return False."
      ]
    },
    {
      "cell_type": "markdown",
      "id": "628f557d-5bea-49f4-8b7a-19b5517bb36e",
      "metadata": {
        "nbgrader": {
          "grade": false,
          "grade_id": "cell-c6f41ead7b851fa7",
          "locked": true,
          "schema_version": 3,
          "solution": false,
          "task": false
        },
        "id": "628f557d-5bea-49f4-8b7a-19b5517bb36e"
      },
      "source": [
        "### Task\n",
        "\n",
        "Choose an object of certain type, and expolore attributes associated to its class.  Get help on the use with `help`function."
      ]
    },
    {
      "cell_type": "code",
      "execution_count": null,
      "id": "d8421d5a-13b8-4c08-9f72-876183174cf9",
      "metadata": {
        "nbgrader": {
          "grade": true,
          "grade_id": "cell-8e89b16d084a2662",
          "locked": false,
          "points": 2,
          "schema_version": 3,
          "solution": true,
          "task": false
        },
        "id": "d8421d5a-13b8-4c08-9f72-876183174cf9"
      },
      "outputs": [],
      "source": [
        "my_list = [1, 2, 3, 4, 5]\n",
        "print(\"Attributes and methods of list:\", dir(my_list))\n",
        "help(my_list.append)"
      ]
    },
    {
      "cell_type": "markdown",
      "id": "81d94582-629c-4ace-abfe-8485904338ae",
      "metadata": {
        "nbgrader": {
          "grade": false,
          "grade_id": "cell-3b7210e51a682ef8",
          "locked": true,
          "schema_version": 3,
          "solution": false,
          "task": false
        },
        "id": "81d94582-629c-4ace-abfe-8485904338ae"
      },
      "source": [
        "## Boolean and Other Special Types\n",
        "\n",
        "Recall that we have covered Boolean and the object `None`.  There are many other special types, and we shall explore them as we move forward. For now, let us recall our knowledge about boolean and its means of combinations.\n",
        "\n",
        "Let us fix `x=True` and `y=False`, and determine the meaning of different combinations."
      ]
    },
    {
      "cell_type": "code",
      "execution_count": null,
      "id": "45fc333c-1f0f-4a60-bd6c-b66f3c490302",
      "metadata": {
        "nbgrader": {
          "grade": false,
          "grade_id": "cell-5aee68890a3d8995",
          "locked": true,
          "schema_version": 3,
          "solution": false,
          "task": false
        },
        "id": "45fc333c-1f0f-4a60-bd6c-b66f3c490302",
        "outputId": "73bd704a-89a3-4cbc-8b59-851cad27ffb6"
      },
      "outputs": [
        {
          "name": "stdout",
          "output_type": "stream",
          "text": [
            "Value of x and y is:  False\n",
            "Value of x or y is:  True\n"
          ]
        }
      ],
      "source": [
        "x = True\n",
        "y = False\n",
        "\n",
        "xandy = x and y\n",
        "xory = x or y\n",
        "\n",
        "print(\"Value of x and y is: \", xandy)\n",
        "print(\"Value of x or y is: \", xory)"
      ]
    },
    {
      "cell_type": "markdown",
      "id": "fe6b945d-c643-44c0-b94b-ef52255aa396",
      "metadata": {
        "nbgrader": {
          "grade": false,
          "grade_id": "cell-f94cd2c7dee3e85c",
          "locked": true,
          "schema_version": 3,
          "solution": false,
          "task": false
        },
        "id": "fe6b945d-c643-44c0-b94b-ef52255aa396"
      },
      "source": [
        "### Task\n",
        "\n",
        "Recall the De Morgan's law that $(A+B)^\\prime=A^\\prime \\cdot B^\\prime$.  Here $A^\\prime$ is a mathematical notation for the complement of the statement $A$.\n",
        "\n",
        "Assign values to $A$ and $B$ and print the result of the left hand side and the right hand side of the De Morgan's law on separate lines.\n",
        "\n",
        "It is advised that you first try to guess the outcomes before actually evaluating the block to test your understanding of the boolean and their means of combinations."
      ]
    },
    {
      "cell_type": "code",
      "execution_count": null,
      "id": "92021624-b7e0-400c-91c3-3da6e5f651d1",
      "metadata": {
        "nbgrader": {
          "grade": true,
          "grade_id": "cell-40ddfbe43f3947f9",
          "locked": false,
          "points": 2,
          "schema_version": 3,
          "solution": true,
          "task": false
        },
        "id": "92021624-b7e0-400c-91c3-3da6e5f651d1"
      },
      "outputs": [],
      "source": [
        "A = True\n",
        "B = False\n",
        "LHS = not (A or B)  # (A + B)'\n",
        "RHS = (not A) and (not B)  # A' ⋅ B'\n",
        "print(\"LHS:\", LHS)\n",
        "print(\"RHS:\", RHS)"
      ]
    },
    {
      "cell_type": "markdown",
      "id": "4ca7cd89-7c4f-4522-a9e6-bb9998f1023b",
      "metadata": {
        "nbgrader": {
          "grade": false,
          "grade_id": "cell-6c8bfb76a8aa466e",
          "locked": true,
          "schema_version": 3,
          "solution": false,
          "task": false
        },
        "id": "4ca7cd89-7c4f-4522-a9e6-bb9998f1023b"
      },
      "source": [
        "## Numbers: Integers, Floats, Complex Numbers\n",
        "\n",
        "Recall your knowledge about numbers in Python.\n",
        "\n",
        "### Task\n",
        "\n",
        "1. Choose `x` to be a float and make sure that it has the decimal part.  To make sure that a float is a \"pure\" float or that it has a decimal part, `is_integer` is helpful.  Apply the function `int` on `x` and observe the result.  Explain it to yourself the reason behind the result.\n",
        "\n",
        "2. Choose `x` to be the string \"2.3\" now.  Apply `int` now and observe the result.  Warning: An error will be raised this time.  Explain it to yourself the reason for the error."
      ]
    },
    {
      "cell_type": "markdown",
      "id": "7c34d901-0ac1-4644-a342-0153e70c8ce6",
      "metadata": {
        "nbgrader": {
          "grade": false,
          "grade_id": "cell-e2b616373192b0b2",
          "locked": true,
          "schema_version": 3,
          "solution": false,
          "task": false
        },
        "id": "7c34d901-0ac1-4644-a342-0153e70c8ce6"
      },
      "source": [
        "### Task\n",
        "\n",
        "Let us choose two floats `x=1.2` and `y=2.2`.  If we add the two numbers, we obtain a result different than 3.4.  See below."
      ]
    },
    {
      "cell_type": "code",
      "execution_count": null,
      "id": "db0b9e28-eb93-4862-a353-354e06c265b2",
      "metadata": {
        "nbgrader": {
          "grade": false,
          "grade_id": "cell-ecefb441690f1858",
          "locked": true,
          "schema_version": 3,
          "solution": false,
          "task": false
        },
        "id": "db0b9e28-eb93-4862-a353-354e06c265b2",
        "outputId": "a16b4efc-ea37-4257-c02d-d03aaa20e293"
      },
      "outputs": [
        {
          "data": {
            "text/plain": [
              "3.4000000000000004"
            ]
          },
          "execution_count": 7,
          "metadata": {},
          "output_type": "execute_result"
        }
      ],
      "source": [
        "x=1.2\n",
        "y=2.2\n",
        "z = x+y\n",
        "z"
      ]
    },
    {
      "cell_type": "markdown",
      "id": "2a6d8079-2598-46a9-b6a8-2d3ec8a1fb37",
      "metadata": {
        "nbgrader": {
          "grade": false,
          "grade_id": "cell-45dd0db519134627",
          "locked": true,
          "schema_version": 3,
          "solution": false,
          "task": false
        },
        "id": "2a6d8079-2598-46a9-b6a8-2d3ec8a1fb37"
      },
      "source": [
        "The type `float` has an attribute `hex` that might be helpful in explainging the reason behind not obtaining 3.4. Let us use it as follows"
      ]
    },
    {
      "cell_type": "code",
      "execution_count": null,
      "id": "ee5a3052-90dc-40c4-a04c-011393b354a5",
      "metadata": {
        "nbgrader": {
          "grade": false,
          "grade_id": "cell-6ea38050953c30eb",
          "locked": true,
          "schema_version": 3,
          "solution": false,
          "task": false
        },
        "id": "ee5a3052-90dc-40c4-a04c-011393b354a5",
        "outputId": "6b684976-2e2f-46bc-9ba9-76605603717e"
      },
      "outputs": [
        {
          "data": {
            "text/plain": [
              "'0x1.b333333333334p+1'"
            ]
          },
          "execution_count": 8,
          "metadata": {},
          "output_type": "execute_result"
        }
      ],
      "source": [
        "z.hex()"
      ]
    },
    {
      "cell_type": "markdown",
      "id": "8d988dfa-e31b-499d-a19c-d7032523fcb6",
      "metadata": {
        "nbgrader": {
          "grade": false,
          "grade_id": "cell-57665f0b2268c7c8",
          "locked": true,
          "schema_version": 3,
          "solution": false,
          "task": false
        },
        "id": "8d988dfa-e31b-499d-a19c-d7032523fcb6"
      },
      "source": [
        "The returned result is a `hex` (in base 16) representation of the sum of `x` and `y`.  It might be cryptic at this point, but let us see how we can manually obtain the number in decimal from it. On the left hand side of the decimal in `0x1.b333333333334p+1`, we have the integer 1, and on the right hand side, we have `b`(stands for 11), and then many 3.  At the end we have the exponent `+1`.  The individual integers on the left side of the decimal are multiplied with nonnegative powers of 16 (starting with the power 0 and increasing towards left), and those on the right hand side of the decimal are multiplied with the negative powers of 16 (starting with -1 and decreasing towards right).  All the multiplied factors are then summed and the resulting sum is multiplied with 16 raised to the power the exponent in `0x1.b333333333334p+1`.\n",
        "\n",
        "In the following cell, perform the above computation."
      ]
    },
    {
      "cell_type": "markdown",
      "id": "73be2c09-4e04-488b-a247-4d023f567635",
      "metadata": {
        "nbgrader": {
          "grade": false,
          "grade_id": "cell-59930c0e14985a64",
          "locked": true,
          "schema_version": 3,
          "solution": false,
          "task": false
        },
        "id": "73be2c09-4e04-488b-a247-4d023f567635"
      },
      "source": [
        "### Task\n",
        "\n",
        "Consider complex number `x=1.2+2.3j`. Find them using`abs`, `real` and `imag`.\n",
        "\n",
        "1. absolute value of `x`.\n",
        "2. obtain real part of `x`.\n",
        "3. obtain real part of `x`."
      ]
    },
    {
      "cell_type": "code",
      "execution_count": null,
      "id": "55ab6de9-6d92-4f1e-a69c-41132164b917",
      "metadata": {
        "nbgrader": {
          "grade": true,
          "grade_id": "cell-11095b117bb82a1b",
          "locked": false,
          "points": 2,
          "schema_version": 3,
          "solution": true,
          "task": false
        },
        "id": "55ab6de9-6d92-4f1e-a69c-41132164b917"
      },
      "outputs": [],
      "source": [
        "x = 1.2 + 2.3j\n",
        "abs_x = abs(x)\n",
        "print(\"Absolute value of x: \", abs_x)\n",
        "real_x = x.real\n",
        "print(\"Real part of x: \", real_x)\n",
        "imag_x = x.imag\n",
        "print(\"Imaginary part of x:\", imag_x)"
      ]
    },
    {
      "cell_type": "markdown",
      "id": "81af7c9d-d0ba-4187-bd07-75b49b39c243",
      "metadata": {
        "nbgrader": {
          "grade": false,
          "grade_id": "cell-0f61b11303c71e8d",
          "locked": true,
          "schema_version": 3,
          "solution": false,
          "task": false
        },
        "id": "81af7c9d-d0ba-4187-bd07-75b49b39c243"
      },
      "source": [
        "### Task\n",
        "\n",
        "We want to assign the complex number with real part 1.2 and imaginary part 2.3 to a variable `x`.  Which of the following does not give error?  Try one your console or the evaluation block below.\n",
        "\n",
        "1. `x= 1.2 + j2.3`\n",
        "2. `x= 1.2 + 2.3 j`\n",
        "3. `x= 1.2 + 2.3j`"
      ]
    },
    {
      "cell_type": "code",
      "source": [],
      "metadata": {
        "id": "nPCiunOwuqZl"
      },
      "id": "nPCiunOwuqZl",
      "execution_count": null,
      "outputs": []
    },
    {
      "cell_type": "code",
      "execution_count": null,
      "id": "406afd93-e486-4871-a908-1d52f110e840",
      "metadata": {
        "nbgrader": {
          "grade": true,
          "grade_id": "cell-2ddc09869ce6c596",
          "locked": false,
          "points": 2,
          "schema_version": 3,
          "solution": true,
          "task": false
        },
        "id": "406afd93-e486-4871-a908-1d52f110e840"
      },
      "outputs": [],
      "source": [
        "x = 1.2 + 2.3j"
      ]
    },
    {
      "cell_type": "markdown",
      "id": "d8c6fda4-a12f-443b-8025-b00f125bac18",
      "metadata": {
        "nbgrader": {
          "grade": false,
          "grade_id": "cell-ab71f00f359fde99",
          "locked": true,
          "schema_version": 3,
          "solution": false,
          "task": false
        },
        "id": "d8c6fda4-a12f-443b-8025-b00f125bac18"
      },
      "source": [
        "## Strings\n",
        "\n",
        "### Task\n",
        "\n",
        "We want to prepare an email.  Here is a way using strings."
      ]
    },
    {
      "cell_type": "code",
      "execution_count": null,
      "id": "9a70c374-d678-4f17-aed2-6765fce3693e",
      "metadata": {
        "nbgrader": {
          "grade": false,
          "grade_id": "cell-9d9f2bb439844584",
          "locked": true,
          "schema_version": 3,
          "solution": false,
          "task": false
        },
        "id": "9a70c374-d678-4f17-aed2-6765fce3693e",
        "outputId": "94428dcc-1873-49b8-be48-067d5e127a1d"
      },
      "outputs": [
        {
          "name": "stdout",
          "output_type": "stream",
          "text": [
            "Dear John\n",
            "\n",
            "Thanks for approaching. I'll get back to you as soon as possible after solving this task.\n",
            "\n",
            "Best regards,\n",
            "\n",
            "XYZ\n"
          ]
        }
      ],
      "source": [
        "e_greeting=\"Dear \"\n",
        "e_to= \"John\"\n",
        "newline =\"\"\"\n",
        "\"\"\"\n",
        "e_text = \"Thanks for approaching. I'll get back to you as soon as possible after solving this task.\"\n",
        "e_end = \"Best regards,\"\n",
        "e_from = \"XYZ\"\n",
        "\n",
        "email_body = e_greeting + e_to + 2*newline + e_text + 2*newline + e_end + 2*newline + e_from\n",
        "\n",
        "print(email_body)"
      ]
    },
    {
      "cell_type": "markdown",
      "id": "c0e431bc-8406-43e7-ba6a-5321234462e4",
      "metadata": {
        "nbgrader": {
          "grade": false,
          "grade_id": "cell-f93bcd62b1a128a1",
          "locked": true,
          "schema_version": 3,
          "solution": false,
          "task": false
        },
        "id": "c0e431bc-8406-43e7-ba6a-5321234462e4"
      },
      "source": [
        "Your task is to\n",
        "\n",
        "1. change the name from `\"John\"` to `\"Mike\"`\n",
        "2. remove the substring \"Thanks for approaching\".\n",
        "3. change the `XYZ` to some name.\n",
        "4. print the email using `print` function while making sure that there are two new lines between lines except between the last two lines."
      ]
    },
    {
      "cell_type": "markdown",
      "source": [],
      "metadata": {
        "id": "ceWweMxCu8Qj"
      },
      "id": "ceWweMxCu8Qj"
    },
    {
      "cell_type": "code",
      "execution_count": null,
      "id": "2a60bceb-f43c-4853-8f85-3b8692c4de50",
      "metadata": {
        "nbgrader": {
          "grade": true,
          "grade_id": "cell-74197e65fd0267ed",
          "locked": false,
          "points": 4,
          "schema_version": 3,
          "solution": true,
          "task": false
        },
        "id": "2a60bceb-f43c-4853-8f85-3b8692c4de50"
      },
      "outputs": [],
      "source": [
        "e_greeting = \"Dear \"\n",
        "e_to = \"Mike\"  # Changed from \"John\" to \"Mike\"\n",
        "newline = \"\\n\"\n",
        "e_text = \"I'll get back to you as soon as possible after solving this task.\"  # Removed \"Thanks for approaching.\"\n",
        "e_end = \"Best regards,\"\n",
        "e_from = \"Fatima\"  # Changed from \"XYZ\"\n",
        "\n",
        "email_body = e_greeting + e_to + 2*newline + e_text + 2*newline + e_end + newline + e_from\n",
        "\n",
        "print(email_body)"
      ]
    },
    {
      "cell_type": "markdown",
      "id": "a1ee7a69-b791-40ca-a483-92faf52a573e",
      "metadata": {
        "nbgrader": {
          "grade": false,
          "grade_id": "cell-84567bbdd6660280",
          "locked": true,
          "schema_version": 3,
          "solution": false,
          "task": false
        },
        "id": "a1ee7a69-b791-40ca-a483-92faf52a573e"
      },
      "source": [
        "## Lists and Tuples\n"
      ]
    },
    {
      "cell_type": "markdown",
      "id": "de4c90b6-1c27-4489-b491-f9034713fd2c",
      "metadata": {
        "nbgrader": {
          "grade": false,
          "grade_id": "cell-a6967f8ccbab5a85",
          "locked": true,
          "schema_version": 3,
          "solution": false,
          "task": false
        },
        "id": "de4c90b6-1c27-4489-b491-f9034713fd2c"
      },
      "source": [
        "### Task\n",
        "\n",
        "Let us consider the sentence \"This sentence is false\", and assign it as a string to a variable `x`.  After that, we split `x` using a string method and notice that a list is returned.  See below"
      ]
    },
    {
      "cell_type": "code",
      "execution_count": null,
      "id": "50f50f89-db9a-45d9-b92a-7644a6660e1e",
      "metadata": {
        "nbgrader": {
          "grade": false,
          "grade_id": "cell-0ca87b8addffa2c5",
          "locked": true,
          "schema_version": 3,
          "solution": false,
          "task": false
        },
        "id": "50f50f89-db9a-45d9-b92a-7644a6660e1e",
        "outputId": "34d1c0c3-c4d3-46ea-9cae-7bcb8733457e"
      },
      "outputs": [
        {
          "data": {
            "text/plain": [
              "['false.', 'is', 'sentence', 'This']"
            ]
          },
          "execution_count": 10,
          "metadata": {},
          "output_type": "execute_result"
        }
      ],
      "source": [
        "x = \"This sentence is false.\"\n",
        "l = x.split(\" \")\n",
        "l.reverse()\n",
        "l"
      ]
    },
    {
      "cell_type": "markdown",
      "id": "43a95994-3096-497a-b3e1-457e35db9ba6",
      "metadata": {
        "nbgrader": {
          "grade": false,
          "grade_id": "cell-8a478f5900961a2d",
          "locked": true,
          "schema_version": 3,
          "solution": false,
          "task": false
        },
        "id": "43a95994-3096-497a-b3e1-457e35db9ba6"
      },
      "source": [
        "Your task is to\n",
        "1. reverse the list using the callable method `reverse`. See it in `dir(list)`.\n",
        "2. change the first element of the list to capitalized version and remove . (period) from it.\n",
        "3. make the last element in the list a lower case word.\n",
        "4. use `\" \".join(l)` to join the list `l` into a single string.\n",
        "5. print the result."
      ]
    },
    {
      "cell_type": "code",
      "execution_count": null,
      "id": "96af832e-9b48-4f85-b44e-02e34625f545",
      "metadata": {
        "nbgrader": {
          "grade": false,
          "grade_id": "cell-7d134ca941a8fd0f",
          "locked": true,
          "points": 5,
          "schema_version": 3,
          "solution": false,
          "task": true
        },
        "id": "96af832e-9b48-4f85-b44e-02e34625f545"
      },
      "outputs": [],
      "source": [
        "x = \"This sentence is false.\"\n",
        "l = x.split(\" \")\n",
        "l.reverse()\n",
        "l[0] = l[0].capitalize().rstrip(\".\")\n",
        "l[-1] = l[-1].lower()\n",
        "result = \" \".join(l)\n",
        "print(result)"
      ]
    },
    {
      "cell_type": "markdown",
      "id": "b924a650-bc88-4268-9207-9aff01d3d610",
      "metadata": {
        "nbgrader": {
          "grade": false,
          "grade_id": "cell-6e9a67fbaaa6a55b",
          "locked": true,
          "schema_version": 3,
          "solution": false,
          "task": false
        },
        "id": "b924a650-bc88-4268-9207-9aff01d3d610"
      },
      "source": [
        "### Task\n",
        "\n",
        "Recall thatlists are mutable objects, but tuples are not.  This means that the elements within a list can be changed but the elements in a tuples cannot be changed.\n",
        "\n",
        "Consider now `x = (1,2,[3,4])`.  Is it possible to change 4 to something else?  Why or why not?"
      ]
    },
    {
      "cell_type": "markdown",
      "source": [],
      "metadata": {
        "id": "c2US7pYWwL7m"
      },
      "id": "c2US7pYWwL7m"
    },
    {
      "cell_type": "markdown",
      "source": [
        "Yes, it is possible to change 4 to something else.\n",
        "\n",
        "Reasoning:\n",
        "Mutability of lists within tuples they can contain mutable objects like lists. In this case, the tuple x contains a list [3, 4] as its third element.\n",
        "Modifying the list: Since the list is mutable, we can modify its elements, meaning we can change 4 to something else."
      ],
      "metadata": {
        "id": "DO24JshjwN71"
      },
      "id": "DO24JshjwN71"
    },
    {
      "cell_type": "code",
      "execution_count": null,
      "id": "f4d21de5-f9db-4f7d-8874-ca96ac0019c2",
      "metadata": {
        "nbgrader": {
          "grade": false,
          "grade_id": "cell-e2080daef3b6433a",
          "locked": true,
          "points": 2,
          "schema_version": 3,
          "solution": false,
          "task": true
        },
        "id": "f4d21de5-f9db-4f7d-8874-ca96ac0019c2"
      },
      "outputs": [],
      "source": [
        "x = (1, 2, [3, 4])\n",
        "x[2][1] = 5\n",
        "\n",
        "print(x)"
      ]
    },
    {
      "cell_type": "markdown",
      "id": "7be39615-2a60-4faa-83d9-a5a7e2a2a619",
      "metadata": {
        "nbgrader": {
          "grade": false,
          "grade_id": "cell-2d59ebd53a1eceda",
          "locked": true,
          "schema_version": 3,
          "solution": false,
          "task": false
        },
        "id": "7be39615-2a60-4faa-83d9-a5a7e2a2a619"
      },
      "source": [
        "## Dictionaries\n",
        "\n",
        "### Task\n",
        "\n",
        "Let us make a small database.  You can use it for personal use.\n",
        "\n",
        "Let `biblio` be a list of books and articles that you are interested in.  At the beginning the list is empty.  We intend to put in this list dictionaries.  The dictionaries are actual records.  See below for an example.\n",
        "\n",
        "The key `authors` is a list of authors.  This is practical because some items might have multiple authors.\n"
      ]
    },
    {
      "cell_type": "code",
      "execution_count": null,
      "id": "a60ef59c-9ea5-41a0-bdec-58e235b1c1e2",
      "metadata": {
        "nbgrader": {
          "grade": false,
          "grade_id": "cell-2c7ba9d44e7aeefe",
          "locked": true,
          "schema_version": 3,
          "solution": false,
          "task": false
        },
        "id": "a60ef59c-9ea5-41a0-bdec-58e235b1c1e2"
      },
      "outputs": [],
      "source": [
        "biblio = []                      # empty bibliography, for now\n",
        "\n",
        "biblio = [ {\"id\": \"skiena2017data\",\n",
        "            \"title\": \"The data science design manual\",\n",
        "            \"authors\": [\"Steven Skiena\"],\n",
        "            \"year\": 2017,\n",
        "            \"publisher\": \"Springer\"}\n",
        "         ]"
      ]
    },
    {
      "cell_type": "markdown",
      "id": "9c99367e-b2f6-4946-93b3-199d9fbf7163",
      "metadata": {
        "nbgrader": {
          "grade": false,
          "grade_id": "cell-74522369aea1552e",
          "locked": true,
          "schema_version": 3,
          "solution": false,
          "task": false
        },
        "id": "9c99367e-b2f6-4946-93b3-199d9fbf7163"
      },
      "source": [
        "Your task is to\n",
        "1. add a new record to `biblio` of your choice.\n",
        "2. add a new record to `biblio` with multiple authors.\n",
        "3. remove the record with `id` `skiena2017data`.\n",
        "4. print the record that you have added in task 2 above in the format \"[authors]: [title], [publisher], [year].\""
      ]
    },
    {
      "cell_type": "code",
      "execution_count": null,
      "id": "49f49240-17f1-4fe8-befe-a0ca86a65983",
      "metadata": {
        "nbgrader": {
          "grade": false,
          "grade_id": "cell-4debb1b89ea5d4ce",
          "locked": true,
          "points": 4,
          "schema_version": 3,
          "solution": false,
          "task": true
        },
        "id": "49f49240-17f1-4fe8-befe-a0ca86a65983"
      },
      "outputs": [],
      "source": [
        "biblio.append({\"id\": \"fares2025machinelearning\",\n",
        "            \"title\": \"Machine Learning 2025\",\n",
        "            \"authors\": [\"Fatya Fares\"],\n",
        "            \"year\": 2025,\n",
        "            \"publisher\": \"LOFA\"})\n",
        "\n",
        "biblio.pop(0)\n",
        "ecord = biblio[1]\n",
        "print(f\"{record['authors']}: {record['title']}, {record['publisher']}, {record['year']}.\")"
      ]
    },
    {
      "cell_type": "markdown",
      "id": "b7349ea7-4c0a-4640-b469-aa50a01eabd2",
      "metadata": {
        "nbgrader": {
          "grade": false,
          "grade_id": "cell-c36b97cea68acd68",
          "locked": true,
          "schema_version": 3,
          "solution": false,
          "task": false
        },
        "id": "b7349ea7-4c0a-4640-b469-aa50a01eabd2"
      },
      "source": [
        "# Final Remark\n",
        "\n",
        "There are a lot of subtopics that we are not covering.  We shall come back to them as we progress and use them implicitely. For now, it is a good point to finish practice for the first week.  You are encouraged to explore the topics or subtopics in builtin data structures you found interesting to see what you can build with them."
      ]
    }
  ],
  "metadata": {
    "kernelspec": {
      "display_name": "Python 3 (ipykernel)",
      "language": "python",
      "name": "python3"
    },
    "language_info": {
      "codemirror_mode": {
        "name": "ipython",
        "version": 3
      },
      "file_extension": ".py",
      "mimetype": "text/x-python",
      "name": "python",
      "nbconvert_exporter": "python",
      "pygments_lexer": "ipython3",
      "version": "3.12.6"
    },
    "toc-autonumbering": false,
    "toc-showcode": false,
    "toc-showmarkdowntxt": false,
    "colab": {
      "provenance": [],
      "include_colab_link": true
    }
  },
  "nbformat": 4,
  "nbformat_minor": 5
}