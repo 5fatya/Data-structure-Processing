{
 "cells": [
  {
   "cell_type": "markdown",
   "id": "9578795f-723e-46cc-b7f4-faed37e6858e",
   "metadata": {
    "id": "9578795f-723e-46cc-b7f4-faed37e6858e"
   },
   "source": [
    "# Data Structures and Processing\n",
    "\n",
    "## Week 9: Image Processing"
   ]
  },
  {
   "cell_type": "markdown",
   "id": "e8b4d83d-aafa-4503-822b-25a9e318163f",
   "metadata": {
    "id": "e8b4d83d-aafa-4503-822b-25a9e318163f",
    "tags": []
   },
   "source": [
    "### Remarks:\n",
    "\n",
    "1. Install the libraries listed below using your package manager.  An example of installing the library `numpy` is to issue a the following command on a terminal (in Ubuntu) `python3 -m pip install numpy`.\n",
    "\n",
    "2. Make sure that you are following the conventions.  For examples, `import numpy as np`, which imports pandas packages and sets the abbreviation for it.\n",
    "\n",
    "3. Do not import the packages without the short names, unless it is intentional.  Doing so might lead to a namespace conflict, or unintended uses of functions coming from two libraries as a part of different implementations.\n",
    "\n",
    "4. We are assigning `None` to variables and use `pass` in the body of the functions, where we expect a solution from you.  Please replace these values and statements with your solution."
   ]
  },
  {
   "cell_type": "markdown",
   "id": "4b0ad0f4",
   "metadata": {},
   "source": []
  },
  {
   "cell_type": "markdown",
   "id": "0c1d9d69-0a50-4804-93e5-113136c827ce",
   "metadata": {
    "id": "0c1d9d69-0a50-4804-93e5-113136c827ce"
   },
   "source": [
    "The exercises in this notebook are aligned with the material provided for the lecture."
   ]
  },
  {
   "cell_type": "markdown",
   "id": "b1aa9048-bfc7-4ee0-af22-fb0d78606569",
   "metadata": {
    "id": "b1aa9048-bfc7-4ee0-af22-fb0d78606569"
   },
   "source": [
    "### Load Libraries"
   ]
  },
  {
   "cell_type": "code",
   "execution_count": 90,
   "id": "2512a105-8759-4def-90bd-37977472539a",
   "metadata": {
    "id": "2512a105-8759-4def-90bd-37977472539a",
    "tags": []
   },
   "outputs": [],
   "source": [
    "import numpy as np\n",
    "import matplotlib.pyplot as plt\n",
    "import imageio.v3 as iio\n",
    "import ipympl\n",
    "import skimage as ski"
   ]
  },
  {
   "cell_type": "markdown",
   "id": "ced24119-c44a-4e5d-b468-2e6a46103ef0",
   "metadata": {
    "id": "ced24119-c44a-4e5d-b468-2e6a46103ef0"
   },
   "source": [
    "### Task 1: Arrays or Lists to Images (0.5p)\n",
    "\n",
    "A basic unit of  digital image is a pixel.  These pixels are arranged together in horizontal and vertical directions on a screen in a rectangular shape. This rectangular arrangement constitute an image. A pixel, on the other hand, is triplet of numbers. These numbers might have different ranges depending upon the kind of format used.  For example, an image having an `RGB` format has the numbers ranged between 0 and 255.\n",
    "\n",
    "An image seen as an arrangement of pixels, with pixels having a list of three numbers, does not have to involve `numpy` arrays, but rather it might be a list of nested lists with the inner most list having length 3.  The Python library `matplotlib`, then takes care of the necessary conversions to make sure that when the imags is plotted, then it is done exactly how it was meant to be.  If we work with the `numpy` arrays, then we can use the power of the library to use different methods, functions and access different attributes to better work with the images at hand.\n",
    "\n",
    "Your task is to create an numpy array named `img` with the shape `(3,4,3)` and display it in the notebook.  It is not important what type of numbers are filled in at the deepest level. For this you could generate those numbers randomly using `np.random`."
   ]
  },
  {
   "cell_type": "code",
   "id": "894d035d-fe79-4291-8d95-027fbecd79be",
   "metadata": {
    "id": "894d035d-fe79-4291-8d95-027fbecd79be",
    "jupyter": {
     "is_executing": true
    }
   },
   "source": [
    "# Your solutions goes here.\n",
    "import numpy as np\n",
    "import matplotlib.pyplot as plt\n",
    "\n",
    "img = np.random.randint(0, 256, size=(3, 4, 3))\n",
    "\n",
    "plt.imshow(img)\n",
    "plt.axis('off')\n",
    "plt.show()\n",
    "\n",
    "print(img)\n"
   ],
   "outputs": [],
   "execution_count": null
  },
  {
   "cell_type": "markdown",
   "id": "b111cc37-26ce-423d-b2e8-018da87b9a3f",
   "metadata": {
    "id": "b111cc37-26ce-423d-b2e8-018da87b9a3f"
   },
   "source": [
    "## Task 2: Color Channels (0.5p)\n",
    "\n",
    "Each pixel has three color channels: `red`, `green` and `blue`.  Given an image, if we want to remove a channel from it, then we have to put 0 at the corresponding place. This task of switching channels off becomes even simpler if we use the `numpy` arrays, because we can use their arithmetics to do so.\n",
    "\n",
    "In the following block, we define an `image` as a `numpy` array. Your task is to display three pictures with:\n",
    "1. `red` channel removed,\n",
    "2. `green` channel removed,\n",
    "3. `blue` channel removed.\n",
    "\n",
    "Generate extra blocks below if there is a need."
   ]
  },
  {
   "cell_type": "code",
   "execution_count": 92,
   "id": "8ff6d4c7-995d-475a-9b47-9c92776c8e70",
   "metadata": {
    "id": "8ff6d4c7-995d-475a-9b47-9c92776c8e70"
   },
   "outputs": [
    {
     "data": {
      "text/plain": [
       "(20, 10, 3)"
      ]
     },
     "execution_count": 92,
     "metadata": {},
     "output_type": "execute_result"
    }
   ],
   "source": [
    "# Evaluate this block to make sure the variable is set to a correct value.\n",
    "\n",
    "image = np.array([[[112,160,124],[51,159,107],[243,146,17],[78,136,42],[248,1,123],[2,243,234],[34,172,157],[109,6,183],[224,147,3],[136,248,206]],[[34,156,245],[212,99,237],[67,127,58],[249,134,217],[245,161,83],[129,165,115],[41,19,153],[74,249,251],[99,186,100],[50,26,171]],[[210,246,125],[119,197,50],[68,221,250],[52,232,121],[210,141,248],[46,85,213],[221,3,61],[45,119,58],[106,102,92],[200,57,76]],[[14,126,116],[197,174,12],[201,118,10],[179,66,143],[4,133,91],[6,217,53],[92,163,110],[172,163,57],[112,99,182],[200,216,19]],[[105,183,48],[74,238,92],[8,129,153],[226,78,134],[70,122,12],[222,93,30],[229,144,56],[190,101,22],[237,180,217],[112,175,108]],[[55,69,169],[80,185,45],[88,174,186],[187,162,119],[150,165,86],[248,188,250],[2,109,48],[185,246,63],[1,167,101],[60,0,162]],[[70,115,127],[45,83,135],[133,166,115],[177,112,113],[85,117,47],[237,189,94],[36,201,174],[159,154,91],[13,121,67],[72,112,64]],[[202,161,68],[131,231,8],[208,32,66],[239,218,56],[50,160,171],[140,28,251],[168,0,22],[170,36,94],[98,241,219],[84,143,94]],[[237,118,109],[244,208,116],[168,123,136],[17,4,132],[237,63,85],[16,76,111],[144,79,133],[135,78,200],[173,105,225],[62,134,234]],[[7,6,211],[114,220,181],[173,127,40],[60,192,121],[170,143,70],[169,168,116],[100,124,208],[253,251,143],[136,99,88],[201,226,84]],[[249,215,242],[138,117,102],[223,5,147],[225,30,37],[148,233,202],[220,92,232],[97,93,223],[205,115,182],[169,54,92],[228,120,230]],[[170,77,125],[168,23,25],[190,150,48],[170,129,104],[52,24,225],[1,7,125],[252,150,24],[231,1,168],[1,66,189],[216,123,239]],[[174,93,71],[17,39,186],[91,186,66],[82,58,176],[25,211,186],[140,184,172],[0,82,155],[252,252,170],[119,84,58],[45,121,138]],[[126,77,80],[232,25,230],[89,241,168],[9,172,251],[169,35,29],[204,204,245],[159,40,73],[196,72,70],[4,35,247],[25,26,71]],[[96,208,147],[108,45,92],[123,192,234],[26,41,79],[113,236,101],[38,168,41],[104,242,252],[228,42,156],[14,54,228],[23,154,179]],[[26,68,124],[131,41,100],[31,247,59],[80,9,87],[128,213,86],[107,113,85],[41,189,209],[207,178,169],[253,225,57],[54,184,61]],[[183,69,224],[114,215,149],[141,5,76],[76,138,62],[52,101,199],[70,246,21],[65,227,157],[216,114,156],[153,62,11],[241,202,12]],[[40,121,60],[39,199,2],[98,7,29],[6,7,42],[234,185,224],[71,170,158],[252,194,147],[221,28,204],[137,70,233],[172,249,235]],[[73,118,175],[126,109,179],[33,222,16],[202,243,209],[132,244,157],[135,20,145],[161,2,203],[65,253,96],[102,130,239],[157,220,5]],[[96,8,199],[128,49,254],[162,196,159],[150,177,254],[89,159,100],[185,73,150],[209,100,127],[159,197,49],[217,0,141],[239,32,9]]])\n",
    "image.shape\n"
   ]
  },
  {
   "cell_type": "code",
   "execution_count": 93,
   "id": "0f7e5ebb-a24c-4706-b849-46f9a0678931",
   "metadata": {
    "id": "0f7e5ebb-a24c-4706-b849-46f9a0678931"
   },
   "outputs": [],
   "source": [
    "# Your solution to red channel removed.\n",
    "img_r = np.copy(image)\n",
    "img_r[:,:,0] = 0"
   ]
  },
  {
   "cell_type": "code",
   "execution_count": 94,
   "id": "3588ab8a-855a-43c4-9901-e60d53d0e835",
   "metadata": {
    "id": "3588ab8a-855a-43c4-9901-e60d53d0e835"
   },
   "outputs": [],
   "source": [
    "# Your solution to green channel removed.\n",
    "img_r = np.copy(image)\n",
    "img_r[:,0,:] = 0\n"
   ]
  },
  {
   "cell_type": "code",
   "execution_count": 95,
   "id": "d04b6a1b-55d8-4d96-985b-c0630570cc9d",
   "metadata": {
    "id": "d04b6a1b-55d8-4d96-985b-c0630570cc9d"
   },
   "outputs": [],
   "source": [
    "# Your solution to blue channel removed.\n",
    "img_r = np.copy(image)\n",
    "img_r[0,:,:] = 0\n"
   ]
  },
  {
   "cell_type": "markdown",
   "id": "e61946d3-bf3c-4acb-aca0-fdd0833d47af",
   "metadata": {
    "id": "e61946d3-bf3c-4acb-aca0-fdd0833d47af"
   },
   "source": [
    "## Task 3: Manipulating Pixels (0.5p)\n",
    "\n",
    "Reconsider the example of `numpy` array `image` from a previous task. To make sure that the value of this arrays reverts back to our desired value, we provide it below one more time.\n",
    "\n",
    "Your task is to replace each individual number in a pixel with the average value of the pixel and display the image. For this, define a new array `image_avg` obtained by averaging, as just desribed."
   ]
  },
  {
   "cell_type": "code",
   "execution_count": 96,
   "id": "8a0e303e-10d3-4587-acbe-a2c4172bcfce",
   "metadata": {
    "id": "8a0e303e-10d3-4587-acbe-a2c4172bcfce"
   },
   "outputs": [
    {
     "data": {
      "application/vnd.jupyter.widget-view+json": {
       "model_id": "ed19288950af4304a7a37db6ee662009",
       "version_major": 2,
       "version_minor": 0
      },
      "image/png": "[encoded data removed]",
      "text/html": [
       "\n",
       "            <div style=\"display: inline-block;\">\n",
       "                <div class=\"jupyter-widgets widget-label\" style=\"text-align: center;\">\n",
       "                    Figure\n",
       "                </div>\n",
       "                <img src='data:image/png;base64,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' width=640.0/>\n",
       "            </div>\n",
       "        "
      ],
      "text/plain": [
       "Canvas(toolbar=Toolbar(toolitems=[('Home', 'Reset original view', 'home', 'home'), ('Back', 'Back to previous …"
      ]
     },
     "metadata": {},
     "output_type": "display_data"
    }
   ],
   "source": [
    "# Your solution goes here.\n",
    "\n",
    "image = np.array([[[112,160,124],[51,159,107],[243,146,17],[78,136,42],[248,1,123],[2,243,234],[34,172,157],[109,6,183],[224,147,3],[136,248,206]],[[34,156,245],[212,99,237],[67,127,58],[249,134,217],[245,161,83],[129,165,115],[41,19,153],[74,249,251],[99,186,100],[50,26,171]],[[210,246,125],[119,197,50],[68,221,250],[52,232,121],[210,141,248],[46,85,213],[221,3,61],[45,119,58],[106,102,92],[200,57,76]],[[14,126,116],[197,174,12],[201,118,10],[179,66,143],[4,133,91],[6,217,53],[92,163,110],[172,163,57],[112,99,182],[200,216,19]],[[105,183,48],[74,238,92],[8,129,153],[226,78,134],[70,122,12],[222,93,30],[229,144,56],[190,101,22],[237,180,217],[112,175,108]],[[55,69,169],[80,185,45],[88,174,186],[187,162,119],[150,165,86],[248,188,250],[2,109,48],[185,246,63],[1,167,101],[60,0,162]],[[70,115,127],[45,83,135],[133,166,115],[177,112,113],[85,117,47],[237,189,94],[36,201,174],[159,154,91],[13,121,67],[72,112,64]],[[202,161,68],[131,231,8],[208,32,66],[239,218,56],[50,160,171],[140,28,251],[168,0,22],[170,36,94],[98,241,219],[84,143,94]],[[237,118,109],[244,208,116],[168,123,136],[17,4,132],[237,63,85],[16,76,111],[144,79,133],[135,78,200],[173,105,225],[62,134,234]],[[7,6,211],[114,220,181],[173,127,40],[60,192,121],[170,143,70],[169,168,116],[100,124,208],[253,251,143],[136,99,88],[201,226,84]],[[249,215,242],[138,117,102],[223,5,147],[225,30,37],[148,233,202],[220,92,232],[97,93,223],[205,115,182],[169,54,92],[228,120,230]],[[170,77,125],[168,23,25],[190,150,48],[170,129,104],[52,24,225],[1,7,125],[252,150,24],[231,1,168],[1,66,189],[216,123,239]],[[174,93,71],[17,39,186],[91,186,66],[82,58,176],[25,211,186],[140,184,172],[0,82,155],[252,252,170],[119,84,58],[45,121,138]],[[126,77,80],[232,25,230],[89,241,168],[9,172,251],[169,35,29],[204,204,245],[159,40,73],[196,72,70],[4,35,247],[25,26,71]],[[96,208,147],[108,45,92],[123,192,234],[26,41,79],[113,236,101],[38,168,41],[104,242,252],[228,42,156],[14,54,228],[23,154,179]],[[26,68,124],[131,41,100],[31,247,59],[80,9,87],[128,213,86],[107,113,85],[41,189,209],[207,178,169],[253,225,57],[54,184,61]],[[183,69,224],[114,215,149],[141,5,76],[76,138,62],[52,101,199],[70,246,21],[65,227,157],[216,114,156],[153,62,11],[241,202,12]],[[40,121,60],[39,199,2],[98,7,29],[6,7,42],[234,185,224],[71,170,158],[252,194,147],[221,28,204],[137,70,233],[172,249,235]],[[73,118,175],[126,109,179],[33,222,16],[202,243,209],[132,244,157],[135,20,145],[161,2,203],[65,253,96],[102,130,239],[157,220,5]],[[96,8,199],[128,49,254],[162,196,159],[150,177,254],[89,159,100],[185,73,150],[209,100,127],[159,197,49],[217,0,141],[239,32,9]]])\n",
    "image.shape\n",
    "image_avg = None\n",
    "# Display the resulting array\n",
    "image_avg = np.mean(image, axis=2, keepdims=True)\n",
    "\n",
    "image_avg = np.repeat(image_avg, 3, axis=2)\n",
    "\n",
    "\n",
    "plt.imshow(image_avg.astype(np.uint8))\n",
    "plt.axis('off')\n",
    "plt.title('Image with Average Pixel Value')\n",
    "plt.show()"
   ]
  },
  {
   "cell_type": "markdown",
   "id": "a133cb71-245a-406f-8a69-f460025c7d6a",
   "metadata": {
    "id": "a133cb71-245a-406f-8a69-f460025c7d6a"
   },
   "source": [
    "## Task 4: Saving Images to files(1p)\n",
    "\n",
    "Reconsider the previous task, where you have created an image by averaging different channels.\n",
    "\n",
    "Your task is to store the image to a file named `random-image-01.jpg`."
   ]
  },
  {
   "cell_type": "code",
   "execution_count": 97,
   "id": "bd1a60b0-a0b0-4e34-8444-2df5fed9702d",
   "metadata": {
    "id": "bd1a60b0-a0b0-4e34-8444-2df5fed9702d"
   },
   "outputs": [
    {
     "name": "stdout",
     "output_type": "stream",
     "text": [
      "Image saved successfully!\n"
     ]
    }
   ],
   "source": [
    "# Your solution goes here.\n",
    "image_avg = np.mean(image, axis=2, keepdims=True)\n",
    "\n",
    "# Create a new image where each pixel value is replaced by the average value\n",
    "image_avg = np.repeat(image_avg, 3, axis=2)\n",
    "\n",
    "# Save the image to a file\n",
    "plt.imsave('random-image-01.jpg', image_avg.astype(np.uint8))\n",
    "\n",
    "print(\"Image saved successfully!\")"
   ]
  },
  {
   "cell_type": "markdown",
   "id": "8f7f0d57-f5df-4292-8448-232008e42257",
   "metadata": {
    "id": "8f7f0d57-f5df-4292-8448-232008e42257"
   },
   "source": [
    "## Task 5: Reading Images in from files (1p)\n",
    "\n",
    "We provide an image `beads.jpg` with this notebook. Any other image would do the job too.\n",
    "\n",
    "Your task is to\n",
    "1. read an image to a variable `image` using the Python library called `imageio`,\n",
    "2. obtain a new array `image_r` that contains only the `red` channel.\n",
    "3. save the `image_r` to a file named `beads_r.png`."
   ]
  },
  {
   "cell_type": "code",
   "execution_count": 99,
   "id": "16aeba86-72be-4c01-a382-af3af27ea407",
   "metadata": {
    "id": "16aeba86-72be-4c01-a382-af3af27ea407"
   },
   "outputs": [],
   "source": [
    "# Your solution goes here\n",
    "image = iio.imread('beads.jpg')\n",
    "\n",
    "\n",
    "image_r = np.copy(image)\n",
    "image_r[:,:,1:] = 0\n",
    "\n",
    "iio.imwrite('beads_r.png', image_r)\n"
   ]
  },
  {
   "cell_type": "markdown",
   "id": "808d2d1a-fd4d-4b61-ad52-3323a97982cb",
   "metadata": {
    "id": "808d2d1a-fd4d-4b61-ad52-3323a97982cb"
   },
   "source": [
    "## Task 6: Image I/O and Manipulation (0.5p)\n",
    "\n",
    "Define a function `image_averaged` with two string arguments: `file_in` and `file_out`. This function must do the following\n",
    "\n",
    "1. reads the image pointed to by the path `file_in`,\n",
    "2. averages each pixel using the channels in that pixel,\n",
    "3. saves the averaged array as a image to a file using `file_out`,\n",
    "4. returns `file_out`"
   ]
  },
  {
   "cell_type": "code",
   "execution_count": 110,
   "id": "e19dfd41-c042-48cd-af35-568b1b5aef5b",
   "metadata": {
    "id": "e19dfd41-c042-48cd-af35-568b1b5aef5b"
   },
   "outputs": [],
   "source": [
    "# Your solution goes here.\n",
    "def image_averaged(file_in, file_out):\n",
    "    image = iio.imread(file_in)\n",
    "    image_avg = np.mean(image, axis=2, keepdims=True)\n",
    "    image_avg = np.repeat(image_avg, 3, axis=2)  \n",
    "    iio.imwrite(file_out, image_avg.astype(np.uint8))\n",
    "    return file_out\n"
   ]
  },
  {
   "cell_type": "code",
   "execution_count": 111,
   "id": "4ad9a7a5-ad09-4b17-8a95-ef8176f63e65",
   "metadata": {
    "id": "4ad9a7a5-ad09-4b17-8a95-ef8176f63e65"
   },
   "outputs": [
    {
     "name": "stdout",
     "output_type": "stream",
     "text": [
      "Averaged image saved to: beads_averaged.png\n"
     ]
    }
   ],
   "source": [
    "# Test your function `image_averaged` on a sample file `beads.jpg`.\n",
    "input_file = 'beads.jpg'\n",
    "output_file = 'beads_averaged.png'\n",
    "\n",
    "result_file = image_averaged(input_file, output_file)\n",
    "print(\"Averaged image saved to:\", result_file)"
   ]
  },
  {
   "cell_type": "markdown",
   "id": "da11cd2b-af73-4ea0-8167-0d0a730d87c0",
   "metadata": {
    "id": "da11cd2b-af73-4ea0-8167-0d0a730d87c0"
   },
   "source": [
    "## Task 7: Image Manipulation: Crop or Slice (1p)\n",
    "\n",
    "Write down a function named `image_right_half` that takes two arguments `file_in` and `file_out` and it does the following:\n",
    "\n",
    "1. reads the image `file_in`,\n",
    "2. crops the right half of the image,\n",
    "3. saves the new image to `file_out`,\n",
    "4. returns `file_out`."
   ]
  },
  {
   "cell_type": "code",
   "execution_count": 120,
   "id": "b0853af0-380f-4f9a-81aa-d1daaae85680",
   "metadata": {
    "id": "b0853af0-380f-4f9a-81aa-d1daaae85680"
   },
   "outputs": [],
   "source": [
    "# Your solutios goes here.\n",
    "def image_right_half(file_in, file_out):\n",
    "    image = iio.imread(file_in)\n",
    "    width = image.shape[1]\n",
    "    image_cropped = image[:, width//2:, :]\n",
    "    iio.imwrite(file_out, image_cropped.astype(np.uint8))\n",
    "    return file_out"
   ]
  },
  {
   "cell_type": "code",
   "execution_count": 128,
   "id": "57a77672-75d8-4f69-89ff-c78fcdbf9980",
   "metadata": {
    "id": "57a77672-75d8-4f69-89ff-c78fcdbf9980"
   },
   "outputs": [
    {
     "name": "stdout",
     "output_type": "stream",
     "text": [
      "Right half image saved to: beads_right_half.png\n"
     ]
    }
   ],
   "source": [
    "# Test your function `image_right_half` on a sample file `beads.jpg`\n",
    "input_file = 'beads.jpg'\n",
    "output_file = 'beads_right_half.png'\n",
    "\n",
    "result_file = image_right_half(input_file, output_file)\n",
    "print(\"Right half image saved to:\", result_file)\n"
   ]
  },
  {
   "cell_type": "markdown",
   "id": "51bf934e-3e52-48ed-b9f2-3d3aafcc90b9",
   "metadata": {
    "id": "51bf934e-3e52-48ed-b9f2-3d3aafcc90b9"
   },
   "source": [
    "## Task 8: Image Manipulation: Masking (1p)\n",
    "\n",
    "Masking might be an expensive operation, because it amounts to turning of undesired values in pixels.  It might be even slower, if we worked with a huge image and tried to view the image in this Jupyter notebook.\n",
    "\n",
    "Your task is to write down a function `image_mask`, which takes six arguments:\n",
    "\n",
    "1. `file_in`: image to be read in.\n",
    "2. `file_out`: image to be written to.\n",
    "3. `x1,y1` the upper right corner of the rectangle for the mask.\n",
    "4. `x2,y2` lower right corder or the rentangle for the mask.\n",
    "\n",
    "The function `image_mask` takes the `file_in` applies the mask and then writes the resulting image to `file_out`."
   ]
  },
  {
   "cell_type": "code",
   "execution_count": 135,
   "id": "9ac767ca-f42d-4563-86ba-d98d2412731c",
   "metadata": {
    "id": "9ac767ca-f42d-4563-86ba-d98d2412731c"
   },
   "outputs": [],
   "source": [
    "# Your solution goes here.\n",
    "\n",
    "def image_mask( file_in, file_out, x1, y1, x2, y2):\n",
    "    image = iio.imread(file_in)\n",
    "    mask = np.zeros_like(image)\n",
    "    mask[y1:y2, x1:x2, :] = 1\n",
    "    masked_image = image * mask\n",
    "    iio.imwrite(file_out, masked_image.astype(np.uint8))\n",
    "    return file_out"
   ]
  },
  {
   "cell_type": "code",
   "execution_count": 137,
   "id": "d3b331eb-b911-4b69-97d4-ca8946c279df",
   "metadata": {
    "id": "d3b331eb-b911-4b69-97d4-ca8946c279df"
   },
   "outputs": [
    {
     "name": "stdout",
     "output_type": "stream",
     "text": [
      "Masked image saved to: masked_image.jpg\n"
     ]
    }
   ],
   "source": [
    "# Test your function on a sample image.\n",
    "input_file = 'beads.jpg'\n",
    "output_file = 'masked_image.jpg'\n",
    "x1, y1 = 100, 100\n",
    "x2, y2 = 200, 200\n",
    "\n",
    "result_file = image_mask(input_file, output_file, x1, y1, x2, y2)\n",
    "print(\"Masked image saved to:\", result_file)"
   ]
  },
  {
   "cell_type": "markdown",
   "id": "5d916ac6-2a9c-4958-a372-11d8097fa59f",
   "metadata": {
    "id": "5d916ac6-2a9c-4958-a372-11d8097fa59f"
   },
   "source": [
    "## Task 9: Histograms (0.5p)\n",
    "\n",
    "Write down a function `image_hist_red` that takes the two arguments: `file_in` and `file_out`.  This function plots a histrogram of the `red` channel and stores it in `file_out`."
   ]
  },
  {
   "cell_type": "code",
   "execution_count": 148,
   "id": "20c01b78-b3d2-4e85-b82d-6a8f788af912",
   "metadata": {
    "id": "20c01b78-b3d2-4e85-b82d-6a8f788af912"
   },
   "outputs": [],
   "source": [
    "# Your solution goes here.\n",
    "\n",
    "def image_hist_red (file_in, file_out):\n",
    "    image = iio.imread(file_in)\n",
    "    red_channel = image[:,:,0].ravel()\n",
    "    plt.hist(red_channel, bins=range(256), color='red', alpha=0.7)\n",
    "    plt.xlabel('Red Intensity')\n",
    "    plt.ylabel('Frequency')\n",
    "    plt.title('Histogram of Red Channel')\n",
    "    plt.savefig(file_out)\n",
    "    plt.close()\n",
    "    return file_out"
   ]
  },
  {
   "cell_type": "code",
   "execution_count": 149,
   "id": "45d199fc-f33f-4848-81e9-940387a923d3",
   "metadata": {
    "id": "45d199fc-f33f-4848-81e9-940387a923d3"
   },
   "outputs": [
    {
     "name": "stdout",
     "output_type": "stream",
     "text": [
      "Histogram of red channel saved to: red_histogram.png\n"
     ]
    }
   ],
   "source": [
    "# Test your function `image_hist_red` on a sample image.\n",
    "input_file = 'beads.jpg'\n",
    "output_file = 'red_histogram.png'\n",
    "\n",
    "result_file = image_hist_red(input_file, output_file)\n",
    "print(\"Histogram of red channel saved to:\", result_file)"
   ]
  },
  {
   "cell_type": "markdown",
   "id": "a3f9f47b-e1bd-4cfd-ada4-bd5715cb4216",
   "metadata": {
    "id": "a3f9f47b-e1bd-4cfd-ada4-bd5715cb4216"
   },
   "source": [
    "## Task 10: Object Identification (1p)\n",
    "\n",
    "Consider the image `sudoku.png` in the attachment to this notebook.\n",
    "\n",
    "Write down a function `image_object_count` that takes a `file_in` as the only argument and returns the number of objects on it.\n",
    "\n",
    "For help, please refer to the associated lecture material."
   ]
  },
  {
   "cell_type": "code",
   "execution_count": 157,
   "id": "835aed81-4c4c-4914-a05b-e499b6f1d65c",
   "metadata": {
    "id": "835aed81-4c4c-4914-a05b-e499b6f1d65c"
   },
   "outputs": [],
   "source": [
    "# Your solution goes here\n"
   ]
  },
  {
   "cell_type": "code",
   "execution_count": 158,
   "id": "d96b902f-2dd6-416b-bc5c-e9731a1252c9",
   "metadata": {
    "id": "d96b902f-2dd6-416b-bc5c-e9731a1252c9"
   },
   "outputs": [
    {
     "name": "stdout",
     "output_type": "stream",
     "text": [
      "Number of objects: 96\n"
     ]
    }
   ],
   "source": [
    "# Test your function against the image sudoku.png\n",
    "# Your function should return 29\n"
   ]
  },
  {
   "cell_type": "markdown",
   "id": "b7a6c279",
   "metadata": {},
   "source": [
    "## Task 11: Interactive Color Channel Adjustment (1p)\n",
    "\n",
    " In this exercise, you'll create an interactive tool that allows users to adjust \n",
    " the intensity of color channels in an image using sliders. This is similar to \n",
    " color adjustment tools in photo editing software.\n",
    "\n",
    " The function `update_color` takes three parameters for red, green, and blue channel\n",
    " multipliers and displays the modified image in real time. The slider widgets allow\n",
    " users to interactively change these values.\n",
    "\n",
    "# Your task is to:\n",
    " 1. Load an image (e.g., 'beads.jpg') before running this code\n",
    " 2. Study the `update_color` function to understand how it works\n",
    " 3. Run the code to see how interactive widgets affect the image\n",
    " 4. Modify the code to add a brightness slider (hint: add a constant value to all channels)\n",
    " 5. Try creating a contrast adjustment slider (hint: use the formula: pixel = (pixel - 128) * contrast + 128)\n",
    "\n",
    " First, make sure you've loaded an image:\n",
    " image = iio.imread('beads.jpg')\n"
   ]
  },
  {
   "cell_type": "code",
   "execution_count": null,
   "id": "91ae88ba",
   "metadata": {},
   "outputs": [],
   "source": [
    "\n",
    "import ipywidgets as widgets\n",
    "from IPython.display import display\n",
    "import numpy as np\n",
    "import matplotlib.pyplot as plt\n",
    "\n",
    "def update_color(red=1.0, green=1.0, blue=1.0):\n",
    "    \"\"\"\n",
    "    Adjust the intensity of each color channel in the image.\n",
    "    \n",
    "    Parameters:\n",
    "    -----------\n",
    "    red : float\n",
    "        Multiplier for the red channel (0 removes red, 2 doubles its intensity)\n",
    "    green : float\n",
    "        Multiplier for the green channel (0 removes green, 2 doubles its intensity)\n",
    "    blue : float\n",
    "        Multiplier for the blue channel (0 removes blue, 2 doubles its intensity)\n",
    "    \"\"\"\n",
    "    # Create a copy of the original image to avoid modifying it\n",
    "\n",
    "    \n",
    "    # Apply the multipliers to each color channel\n",
    "\n",
    "\n",
    "    # Ensure pixel values stay within valid range (0-255)\n",
    "\n",
    "    \n",
    "    # Display the modified image\n",
    "  \n",
    "\n",
    "# Create sliders for each color channel\n",
    "\n",
    "# Create the interactive widget that connects the sliders to the update function\n",
    "\n",
    "\n"
   ]
  },
  {
   "cell_type": "markdown",
   "id": "77cd0f2b",
   "metadata": {},
   "source": [
    "## Task 12: Image Blending (1p)\n",
    "\n",
    "Write a function `blend_images` that:\n",
    "1. Takes three parameters: `file_in1`, `file_in2`, and `file_out`\n",
    "2. Reads two images from `file_in1` and `file_in2`\n",
    "3. Resizes the second image to match the dimensions of the first if necessary\n",
    "4. Creates a weighted blend of the two images (50% of each)\n",
    "5. Saves the blended image to `file_out`\n",
    "6. Returns the blended image\n",
    "\n"
   ]
  },
  {
   "cell_type": "code",
   "execution_count": null,
   "id": "2b36b944",
   "metadata": {},
   "outputs": [],
   "source": [
    "from skimage.transform import resize\n",
    "\n",
    "def blend_images(file_in1, file_in2, file_out, alpha=0.5):\n",
    "    \"\"\"\n",
    "    Blend two images together with the given alpha value.\n",
    "    alpha=0.5 means equal weight to both images.\n",
    "    \"\"\"\n",
    "    # Read both images\n",
    "\n",
    "\n",
    "    # Convert to float for calculations\n",
    "\n",
    "  \n",
    "    # Resize second image to match dimensions of the first if needed\n",
    "   \n",
    "    \n",
    "    # Blend images using alpha\n",
    "  \n",
    "    \n",
    "    # Convert back to uint8 for saving\n",
    "    \n",
    "    \n",
    "    # Save the blended image\n",
    "    \n",
    "\n"
   ]
  }
 ],
 "metadata": {
  "colab": {
   "provenance": []
  },
  "kernelspec": {
   "display_name": "Python 3",
   "language": "python",
   "name": "python3"
  },
  "language_info": {
   "codemirror_mode": {
    "name": "ipython",
    "version": 3
   },
   "file_extension": ".py",
   "mimetype": "text/x-python",
   "name": "python",
   "nbconvert_exporter": "python",
   "pygments_lexer": "ipython3",
   "version": "3.11.4"
  },
  "name": "week8.ipynb"
 },
 "nbformat": 4,
 "nbformat_minor": 5
}
