{
 "cells": [
  {
   "cell_type": "markdown",
   "id": "9578795f-723e-46cc-b7f4-faed37e6858e",
   "metadata": {},
   "source": [
    "# Data Structures and Processing\n",
    "\n",
    "## Week 10: Time Series"
   ]
  },
  {
   "cell_type": "markdown",
   "id": "e8b4d83d-aafa-4503-822b-25a9e318163f",
   "metadata": {
    "tags": []
   },
   "source": [
    "### Remarks:\n",
    "\n",
    "1. Install the libraries listed below using your package manager.  An example of installing the library `numpy` is to issue a the following command on a terminal (in Ubuntu) `python3 -m pip install numpy`.\n",
    "\n",
    "2. Make sure that you are following the conventions.  For examples, `import numpy as np`, which imports `numpy` packages and sets the abbreviation for it.\n",
    "\n",
    "3. Do not import the packages without the short names, unless it is intentional.  Doing so might lead to a namespace conflict, or unintended uses of functions coming from two libraries as a part of different implementations.\n",
    "\n",
    "4. We are assigning `None` to variables and use `pass` in the body of the functions, where we expect a solution from you.  Please replace these values and statements with your solution."
   ]
  },
  {
   "cell_type": "markdown",
   "id": "0c1d9d69-0a50-4804-93e5-113136c827ce",
   "metadata": {},
   "source": [
    "The exercises in this notebook are aligned with the material provided for the lecture."
   ]
  },
  {
   "cell_type": "markdown",
   "id": "b1aa9048-bfc7-4ee0-af22-fb0d78606569",
   "metadata": {},
   "source": [
    "### Load Libraries"
   ]
  },
  {
   "cell_type": "code",
   "id": "6102545d-db04-4d39-8fd0-1de6d3c28615",
   "metadata": {
    "ExecuteTime": {
     "end_time": "2025-05-04T16:04:41.218347Z",
     "start_time": "2025-05-04T16:04:37.231777Z"
    }
   },
   "source": [
    "import numpy as np\n",
    "import pandas as pd\n",
    "import datetime as dtime"
   ],
   "outputs": [],
   "execution_count": 4
  },
  {
   "cell_type": "markdown",
   "id": "bd5fe57f-673f-4ac8-b4a2-042ab0fa007d",
   "metadata": {},
   "source": [
    "## Task 1 - 1pt\n",
    "\n",
    "Consider a file `IBM.csv` attached to this notebook, which contains stocks since 2000 of IBM.  Import the data from the file as a pandas `DataFrame` into a variable `ts1`.  Since there is no mentioning of index, therefore, the default integer incremented index is associated.  Notice that one of the column is named `\"Date\"`.  We would like to use this as an index for `df1`.\n",
    "\n",
    "Your task is to use pandas builtin function to change the index of the above `DataFrame` named `df1`."
   ]
  },
  {
   "cell_type": "code",
   "id": "a3dee259-847e-4c19-9d12-c3dba6a00565",
   "metadata": {
    "ExecuteTime": {
     "end_time": "2025-05-04T16:05:06.298231Z",
     "start_time": "2025-05-04T16:05:06.229908Z"
    }
   },
   "source": [
    "# Your solution goes here.\n",
    "# Load the uploaded notebook to examine Task 1\n",
    "from nbformat import read\n",
    "\n",
    "with open(\"/mnt/data/DSaP_week10.ipynb\", \"r\", encoding=\"utf-8\") as f:\n",
    "    notebook = read(f, as_version=4)\n",
    "\n",
    "# Extract all cells and search for Task 1\n",
    "task_1_cells = [cell['source'] for cell in notebook.cells if cell.cell_type == 'markdown' and 'task 1' in cell['source'].lower()]\n",
    "\n",
    "# Return the markdown content of Task 1\n",
    "task_1_cells\n"
   ],
   "outputs": [
    {
     "ename": "NameError",
     "evalue": "name 'notebook' is not defined",
     "output_type": "error",
     "traceback": [
      "\u001B[31m---------------------------------------------------------------------------\u001B[39m",
      "\u001B[31mNameError\u001B[39m                                 Traceback (most recent call last)",
      "\u001B[36mCell\u001B[39m\u001B[36m \u001B[39m\u001B[32mIn[6]\u001B[39m\u001B[32m, line 6\u001B[39m\n\u001B[32m      1\u001B[39m \u001B[38;5;66;03m# Your solution goes here.\u001B[39;00m\n\u001B[32m      2\u001B[39m \u001B[38;5;66;03m# Load the uploaded notebook to examine Task 1\u001B[39;00m\n\u001B[32m      3\u001B[39m \n\u001B[32m      4\u001B[39m \n\u001B[32m      5\u001B[39m \u001B[38;5;66;03m# Extract all cells and search for Task 1\u001B[39;00m\n\u001B[32m----> \u001B[39m\u001B[32m6\u001B[39m task_1_cells = [cell[\u001B[33m'\u001B[39m\u001B[33msource\u001B[39m\u001B[33m'\u001B[39m] \u001B[38;5;28;01mfor\u001B[39;00m cell \u001B[38;5;129;01min\u001B[39;00m \u001B[43mnotebook\u001B[49m.cells \u001B[38;5;28;01mif\u001B[39;00m cell.cell_type == \u001B[33m'\u001B[39m\u001B[33mmarkdown\u001B[39m\u001B[33m'\u001B[39m \u001B[38;5;129;01mand\u001B[39;00m \u001B[33m'\u001B[39m\u001B[33mtask 1\u001B[39m\u001B[33m'\u001B[39m \u001B[38;5;129;01min\u001B[39;00m cell[\u001B[33m'\u001B[39m\u001B[33msource\u001B[39m\u001B[33m'\u001B[39m].lower()]\n\u001B[32m      8\u001B[39m \u001B[38;5;66;03m# Return the markdown content of Task 1\u001B[39;00m\n\u001B[32m      9\u001B[39m task_1_cells\n",
      "\u001B[31mNameError\u001B[39m: name 'notebook' is not defined"
     ]
    }
   ],
   "execution_count": 6
  },
  {
   "cell_type": "markdown",
   "id": "7c6b4935-6fd9-46cd-9fc8-793122a8b091",
   "metadata": {},
   "source": [
    "## Task 2 - 1pt\n",
    "\n",
    "Reconsider the `DataFrame` named `df1` from Task 1 above.\n",
    "\n",
    "Your task is to write down a function `average_until_months_end` that takes three arguments:\n",
    "\n",
    "1. `df` a pandas `DataFrame` (for example, `df1`, as defined above)\n",
    "2. `ts` a string containing a timestamp.\n",
    "3. `col` as a column name.\n",
    "\n",
    "and it returns the mean value along the column `col` with the range of time starting from the timestamp `ts` until the end of the month.\n"
   ]
  },
  {
   "cell_type": "code",
   "execution_count": null,
   "id": "e570f2cf-76f3-40a7-8e35-682af72c75c6",
   "metadata": {},
   "outputs": [],
   "source": [
    "# Your solution goes here.\n",
    "# Hint: Have a look at the documentation of `pd.tseries.offsets.MonthEnd`\n",
    "\n",
    "def average_until_months_end(df, ts, col):\n",
    "    pass"
   ]
  },
  {
   "cell_type": "markdown",
   "id": "3d53097c-b8b3-4a0f-8ff2-fae4a5b1376c",
   "metadata": {},
   "source": [
    "## Task 3 - 1 pt\n",
    "\n",
    "Write down a function `change_in_month` that takes three arguments:\n",
    "\n",
    "1. `df`, the `DataFrame`,\n",
    "2. `\"col\"`, the column name for consideration,\n",
    "3. `\"date\"`, date as a string of the form \"YYYY-mm-dd\" or \"YYYY/mm/dd\".\n",
    "\n",
    "that returns the difference of the values at the beginning and at the end of a particular month."
   ]
  },
  {
   "cell_type": "code",
   "execution_count": null,
   "id": "5064a366-fbae-4824-896c-7c21faea3bd1",
   "metadata": {},
   "outputs": [],
   "source": [
    "# Your solution goes here\n",
    "def change_in_month(df, col, date):\n",
    "    pass"
   ]
  },
  {
   "cell_type": "markdown",
   "id": "f5308c25-9a19-44ef-9596-17f3a00d2811",
   "metadata": {},
   "source": [
    "## Task 4 - 1 pt\n",
    "\n",
    "The file `IBM.csv` has down-sampled data in it, where each record has a daily report of the `open`, `high`, `low` and `close` and other entries.\n",
    "\n",
    "Your task is to down-sample the column `\"Open\"` to yearly periods reporting its `ohlc`.  Finally, plot the values for `open` and `close`."
   ]
  },
  {
   "cell_type": "code",
   "execution_count": null,
   "id": "2f035195-2e76-443d-890c-5028085e2433",
   "metadata": {},
   "outputs": [],
   "source": [
    "# Your solution goes here."
   ]
  },
  {
   "cell_type": "markdown",
   "id": "ed1746ac-37a4-4d15-9362-082c588f2071",
   "metadata": {},
   "source": [
    "## Task 5 - 1 pt\n",
    "\n",
    "Reconsider the `IBM.csv` file containing the IBM stocks values/day.  Consider a window of 1000 days and plot mean values."
   ]
  },
  {
   "cell_type": "code",
   "execution_count": null,
   "id": "7acb6664-a40f-40dc-bcac-c66d35108c00",
   "metadata": {},
   "outputs": [],
   "source": [
    "# Your solution goes here."
   ]
  },
  {
   "cell_type": "code",
   "execution_count": null,
   "id": "2627a750",
   "metadata": {},
   "outputs": [],
   "source": []
  },
  {
   "cell_type": "markdown",
   "id": "6354022d-de82-49a1-9bda-ac248af66c20",
   "metadata": {},
   "source": [
    "## Task 6 - 2pt\n",
    "\n",
    "Reconsider the `IBM.csv` file containing the IBM stocks.  Consider a smoothing factor `alpha=0.01`, and plot the `ewm` average for the column `\"Open\"`, and the actual values in that column."
   ]
  },
  {
   "cell_type": "code",
   "execution_count": null,
   "id": "cdee270c-b615-42d1-928b-6d1cab304337",
   "metadata": {},
   "outputs": [],
   "source": [
    "# Your solution goes here."
   ]
  },
  {
   "cell_type": "markdown",
   "id": "325b69cc",
   "metadata": {},
   "source": [
    "## Task 7 - 3pt\n",
    "\n",
    "Using the stock data for IBM and Apple (AAPL), plot the stock price trends between 2007-12-11 and 2008-10-13.\n",
    "\n",
    "1) Load the stock data from the provided IBM.csv and AAPL.csv files.\n",
    "\n",
    "2) Filter the data to only include entries between 2007-12-11 and 2008-10-13.\n",
    "\n",
    "3) Plot the closing prices of both IBM and AAPL over time on the same graph.\n"
   ]
  },
  {
   "cell_type": "code",
   "execution_count": null,
   "id": "f6bda1bb",
   "metadata": {},
   "outputs": [],
   "source": [
    "# Your solution goes here."
   ]
  }
 ],
 "metadata": {
  "kernelspec": {
   "display_name": "Python 3",
   "language": "python",
   "name": "python3"
  },
  "language_info": {
   "codemirror_mode": {
    "name": "ipython",
    "version": 3
   },
   "file_extension": ".py",
   "mimetype": "text/x-python",
   "name": "python",
   "nbconvert_exporter": "python",
   "pygments_lexer": "ipython3",
   "version": "3.11.9"
  },
  "name": "week8.ipynb"
 },
 "nbformat": 4,
 "nbformat_minor": 5
}
