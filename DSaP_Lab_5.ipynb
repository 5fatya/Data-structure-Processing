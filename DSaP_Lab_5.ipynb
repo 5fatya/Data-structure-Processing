{
  "cells": [
    {
      "cell_type": "markdown",
      "metadata": {
        "id": "view-in-github",
        "colab_type": "text"
      },
      "source": [
        "<a href=\"https://colab.research.google.com/github/5fatya/Data-structure-Processing/blob/main/DSaP_Lab_5.ipynb\" target=\"_parent\"><img src=\"https://colab.research.google.com/assets/colab-badge.svg\" alt=\"Open In Colab\"/></a>"
      ]
    },
    {
      "cell_type": "markdown",
      "metadata": {
        "id": "MxafSshlHF9h"
      },
      "source": [
        "# Exploratory Data Analysis\n",
        "\n",
        "In this assignment we will work with data about the Titanic's passengers.\n",
        "\n",
        "Objectives:\n",
        "* to familiarize you with the seaborn library\n",
        "* learn how to build different visualizations\n",
        "* fill the gaps in the data\n",
        "* encode categorical data"
      ]
    },
    {
      "cell_type": "code",
      "execution_count": null,
      "metadata": {
        "id": "o_7CISdyHF9k",
        "outputId": "dda711bf-71bc-4e07-b5e3-800326e5ef61"
      },
      "outputs": [
        {
          "name": "stdout",
          "output_type": "stream",
          "text": [
            "%pylab is deprecated, use %matplotlib inline and import the required libraries.\n",
            "Populating the interactive namespace from numpy and matplotlib\n"
          ]
        }
      ],
      "source": [
        "import pandas as pd\n",
        "import numpy as np\n",
        "from matplotlib import pyplot as plt\n",
        "import seaborn as sns\n",
        "%pylab inline"
      ]
    },
    {
      "cell_type": "markdown",
      "metadata": {
        "id": "Y9zd70LwHF9m"
      },
      "source": [
        "Let's load the data."
      ]
    },
    {
      "cell_type": "code",
      "execution_count": null,
      "metadata": {
        "id": "SCafYsXlHF9m"
      },
      "outputs": [],
      "source": [
        "df = pd.read_csv(\"titanic.csv\")"
      ]
    },
    {
      "cell_type": "markdown",
      "metadata": {
        "id": "k8888tNoHF9n"
      },
      "source": [
        "### Task 1 (0.5pt)\n",
        "Display the first 7 rows of the table and the table dimensions."
      ]
    },
    {
      "cell_type": "code",
      "execution_count": null,
      "metadata": {
        "id": "Mf3ghefrHF9n"
      },
      "outputs": [],
      "source": [
        "# your code here\n",
        "df.head(7)\n",
        "df.shape"
      ]
    },
    {
      "cell_type": "markdown",
      "metadata": {
        "id": "zIvdsH1yHF9o"
      },
      "source": [
        "# Feature Processing\n",
        "\n",
        "1) Find columns that have missing values and process these missing values\n",
        "\n",
        "2) Translate categorical features into numerical"
      ]
    },
    {
      "cell_type": "markdown",
      "metadata": {
        "id": "kYwQRMfCHF9o"
      },
      "source": [
        "### Task 2 (0.5pt)\n",
        "Output the basic numerical characteristics of the numerical columns. The method `.describe()` can be very usefull here."
      ]
    },
    {
      "cell_type": "code",
      "execution_count": null,
      "metadata": {
        "id": "JvvaYMuyHF9p"
      },
      "outputs": [],
      "source": [
        "# your code here\n",
        "df.describe()"
      ]
    },
    {
      "cell_type": "markdown",
      "metadata": {
        "id": "Kx7KwsMmHF9p"
      },
      "source": [
        "The function does not allow you to see if there are missing values in non-numeric columns.\n",
        "\n",
        "## Process the 'Sex' column\n",
        "\n",
        "### Task 3 (0.5pt)\n",
        "Check if there are missing values in the column."
      ]
    },
    {
      "cell_type": "code",
      "execution_count": null,
      "metadata": {
        "id": "XVj5JW8pHF9p"
      },
      "outputs": [],
      "source": [
        "# your code here\n",
        "df['Sex'].isna().sum()"
      ]
    },
    {
      "cell_type": "markdown",
      "metadata": {
        "id": "j2fqNRvaHF9q"
      },
      "source": [
        "### Task 4 (0.5pt)\n",
        "You should get 5 in the previous task. It is a very small amount. Therefore, we can remove them completely from the dataset. Do it."
      ]
    },
    {
      "cell_type": "code",
      "execution_count": null,
      "metadata": {
        "id": "bS2pnY_BHF9r"
      },
      "outputs": [],
      "source": [
        "# your code here\n",
        "df.dropna(subset=['Sex'], inplace=True)\n"
      ]
    },
    {
      "cell_type": "markdown",
      "metadata": {
        "id": "pNDHMYOuHF9r"
      },
      "source": [
        "The `Sex` feature is categorical, i.e. it contains non-numeric values. For most algorithms to work, it is necessary to map categories into numbers. How can this be done?\n",
        "\n",
        "### Task 5 (0.5pt)\n",
        "Encode the categorical features with any method. For example, you can set values to 0 and 1, since this feature is binary (the function `.replace` does it)."
      ]
    },
    {
      "cell_type": "code",
      "execution_count": null,
      "metadata": {
        "id": "KPCr9kmZHF9s"
      },
      "outputs": [],
      "source": [
        "# your code here\n",
        "df['Sex'].replace({'male': 0, 'female': 1}, inplace=True)"
      ]
    },
    {
      "cell_type": "markdown",
      "metadata": {
        "id": "T-cYanzyHF9t"
      },
      "source": [
        "Let's look how gender affects survival rates."
      ]
    },
    {
      "cell_type": "code",
      "execution_count": null,
      "metadata": {
        "id": "Hhr_vXnLHF9u",
        "outputId": "8df86359-dfc6-40dc-b31a-67b954a86f18"
      },
      "outputs": [
        {
          "data": {
            "image/png": "[encoded data removed]",
            "text/plain": [
              "<Figure size 640x480 with 1 Axes>"
            ]
          },
          "metadata": {},
          "output_type": "display_data"
        }
      ],
      "source": [
        "sns.barplot(x='Sex', y='Survived', data=df, palette='summer')\n",
        "plt.title('Sex - Survived')\n",
        "plt.show()"
      ]
    },
    {
      "cell_type": "markdown",
      "metadata": {
        "id": "UNgNKFjYHF9u"
      },
      "source": [
        "Let's look how a combination of a person's gender and ticket class (Pclass) affect survival rates"
      ]
    },
    {
      "cell_type": "code",
      "execution_count": null,
      "metadata": {
        "id": "coAgKg48HF9u",
        "outputId": "a1830502-3f4c-4485-e2f8-dfdcdb1ec2e6"
      },
      "outputs": [
        {
          "data": {
            "image/png": "[encoded data removed]",
            "text/plain": [
              "<Figure size 640x480 with 1 Axes>"
            ]
          },
          "metadata": {},
          "output_type": "display_data"
        }
      ],
      "source": [
        "sns.barplot(x='Sex', y='Survived', hue='Pclass', data=df, palette='autumn')\n",
        "plt.title('Sex - Survived')\n",
        "plt.show()"
      ]
    },
    {
      "cell_type": "markdown",
      "metadata": {
        "id": "SlcQD2cbHF9v"
      },
      "source": [
        "Another useful type of visualization is the box plot box. Let's look at a box plot that reflects the distribution of passengers by gender and age."
      ]
    },
    {
      "cell_type": "code",
      "execution_count": null,
      "metadata": {
        "id": "bpJTIIobHF9v",
        "outputId": "b761fcd2-37d2-447e-d797-6d788970c1e4"
      },
      "outputs": [
        {
          "data": {
            "image/png": "[encoded data removed]",
            "text/plain": [
              "<Figure size 500x500 with 1 Axes>"
            ]
          },
          "metadata": {},
          "output_type": "display_data"
        }
      ],
      "source": [
        "sns.catplot(x=\"Sex\", y=\"Age\", data=df, kind=\"box\")\n",
        "plt.show()"
      ]
    },
    {
      "cell_type": "markdown",
      "metadata": {
        "id": "Voa2fCJkHF9w"
      },
      "source": [
        "We can detail the picture by adding Pclass separation."
      ]
    },
    {
      "cell_type": "code",
      "execution_count": null,
      "metadata": {
        "id": "ZSBTQbffHF9x",
        "outputId": "9b9f8ccf-03fa-4cb7-c0cf-405826a9ba43"
      },
      "outputs": [
        {
          "data": {
            "image/png": "[encoded data removed]",
            "text/plain": [
              "<Figure size 572x500 with 1 Axes>"
            ]
          },
          "metadata": {},
          "output_type": "display_data"
        }
      ],
      "source": [
        "sns.catplot(x=\"Sex\", y=\"Age\",hue =\"Pclass\", data=df, kind=\"box\")\n",
        "plt.show()"
      ]
    },
    {
      "cell_type": "markdown",
      "metadata": {
        "id": "xv37h84FHF9y"
      },
      "source": [
        "## Process the 'Embarked' feature"
      ]
    },
    {
      "cell_type": "code",
      "execution_count": null,
      "metadata": {
        "id": "jH-PdUTAHF9y",
        "outputId": "b63274ee-0021-4314-a2f9-9b36e9095b50"
      },
      "outputs": [
        {
          "name": "stdout",
          "output_type": "stream",
          "text": [
            "S      641\n",
            "C      168\n",
            "Q       75\n",
            "NaN      2\n",
            "Name: Embarked, dtype: int64\n"
          ]
        },
        {
          "data": {
            "text/plain": [
              "(886, 12)"
            ]
          },
          "execution_count": 32,
          "metadata": {},
          "output_type": "execute_result"
        }
      ],
      "source": [
        "print(df['Embarked'].value_counts(dropna=False))\n",
        "df.shape"
      ]
    },
    {
      "cell_type": "markdown",
      "metadata": {
        "id": "TN0Y40fnHF9z"
      },
      "source": [
        "### Task 6 (0.5pt)\n",
        "Remove passengers from the table for whom the port of embarkation (Embarked) is unknown."
      ]
    },
    {
      "cell_type": "code",
      "execution_count": null,
      "metadata": {
        "id": "uxIKd_DSHF9z"
      },
      "outputs": [],
      "source": [
        "# your code here\n",
        "df.dropna(subset=['Embarked'], inplace=True)\n"
      ]
    },
    {
      "cell_type": "markdown",
      "metadata": {
        "id": "n2FsbgloHF90"
      },
      "source": [
        "Let's convert the categorical column to numeric columns using One-Hot Encoding, namely, create three numeric columns as follows:"
      ]
    },
    {
      "cell_type": "code",
      "execution_count": null,
      "metadata": {
        "id": "y3EPp117HF90"
      },
      "outputs": [],
      "source": [
        "df['EmbS'] = df.apply(lambda row: 1 if row.Embarked == 'S' else 0, axis=1)\n",
        "df['EmbC'] = df.apply(lambda row: 1 if row.Embarked == 'C' else 0, axis=1)\n",
        "df['EmbQ'] = df.apply(lambda row: 1 if row.Embarked == 'Q' else 0, axis=1)"
      ]
    },
    {
      "cell_type": "markdown",
      "metadata": {
        "id": "9uH_wZ_nHF90"
      },
      "source": [
        "This operation can be done using the `get_dummies` method."
      ]
    },
    {
      "cell_type": "code",
      "execution_count": null,
      "metadata": {
        "id": "oEemorefHF91",
        "outputId": "b7ae0766-bd1d-4139-d36d-253876aae09f"
      },
      "outputs": [
        {
          "data": {
            "text/html": [
              "<div>\n",
              "<style scoped>\n",
              "    .dataframe tbody tr th:only-of-type {\n",
              "        vertical-align: middle;\n",
              "    }\n",
              "\n",
              "    .dataframe tbody tr th {\n",
              "        vertical-align: top;\n",
              "    }\n",
              "\n",
              "    .dataframe thead th {\n",
              "        text-align: right;\n",
              "    }\n",
              "</style>\n",
              "<table border=\"1\" class=\"dataframe\">\n",
              "  <thead>\n",
              "    <tr style=\"text-align: right;\">\n",
              "      <th></th>\n",
              "      <th>C</th>\n",
              "      <th>Q</th>\n",
              "      <th>S</th>\n",
              "    </tr>\n",
              "  </thead>\n",
              "  <tbody>\n",
              "    <tr>\n",
              "      <th>0</th>\n",
              "      <td>0</td>\n",
              "      <td>0</td>\n",
              "      <td>1</td>\n",
              "    </tr>\n",
              "    <tr>\n",
              "      <th>1</th>\n",
              "      <td>1</td>\n",
              "      <td>0</td>\n",
              "      <td>0</td>\n",
              "    </tr>\n",
              "    <tr>\n",
              "      <th>2</th>\n",
              "      <td>0</td>\n",
              "      <td>0</td>\n",
              "      <td>1</td>\n",
              "    </tr>\n",
              "    <tr>\n",
              "      <th>3</th>\n",
              "      <td>0</td>\n",
              "      <td>0</td>\n",
              "      <td>1</td>\n",
              "    </tr>\n",
              "    <tr>\n",
              "      <th>4</th>\n",
              "      <td>0</td>\n",
              "      <td>0</td>\n",
              "      <td>1</td>\n",
              "    </tr>\n",
              "    <tr>\n",
              "      <th>...</th>\n",
              "      <td>...</td>\n",
              "      <td>...</td>\n",
              "      <td>...</td>\n",
              "    </tr>\n",
              "    <tr>\n",
              "      <th>886</th>\n",
              "      <td>0</td>\n",
              "      <td>0</td>\n",
              "      <td>1</td>\n",
              "    </tr>\n",
              "    <tr>\n",
              "      <th>887</th>\n",
              "      <td>0</td>\n",
              "      <td>0</td>\n",
              "      <td>1</td>\n",
              "    </tr>\n",
              "    <tr>\n",
              "      <th>888</th>\n",
              "      <td>0</td>\n",
              "      <td>0</td>\n",
              "      <td>1</td>\n",
              "    </tr>\n",
              "    <tr>\n",
              "      <th>889</th>\n",
              "      <td>1</td>\n",
              "      <td>0</td>\n",
              "      <td>0</td>\n",
              "    </tr>\n",
              "    <tr>\n",
              "      <th>890</th>\n",
              "      <td>0</td>\n",
              "      <td>1</td>\n",
              "      <td>0</td>\n",
              "    </tr>\n",
              "  </tbody>\n",
              "</table>\n",
              "<p>884 rows × 3 columns</p>\n",
              "</div>"
            ],
            "text/plain": [
              "     C  Q  S\n",
              "0    0  0  1\n",
              "1    1  0  0\n",
              "2    0  0  1\n",
              "3    0  0  1\n",
              "4    0  0  1\n",
              "..  .. .. ..\n",
              "886  0  0  1\n",
              "887  0  0  1\n",
              "888  0  0  1\n",
              "889  1  0  0\n",
              "890  0  1  0\n",
              "\n",
              "[884 rows x 3 columns]"
            ]
          },
          "execution_count": 34,
          "metadata": {},
          "output_type": "execute_result"
        }
      ],
      "source": [
        "pd.get_dummies(df['Embarked'])"
      ]
    },
    {
      "cell_type": "markdown",
      "metadata": {
        "id": "X2pvdQNAHF91"
      },
      "source": [
        "### Task 7 (0.5pt)\n",
        "Remove the categorical column `Embarked` from the table and add new columns to it, obtained using `get_dummies`."
      ]
    },
    {
      "cell_type": "code",
      "execution_count": null,
      "metadata": {
        "id": "ioByec7uHF91"
      },
      "outputs": [],
      "source": [
        "# your code here\n",
        "embarked_dummies = pd.get_dummies(df['Embarked'], prefix='Emb')\n",
        "df = pd.concat([df, embarked_dummies], axis=1)\n",
        "df.drop('Embarked', axis=1, inplace=True)"
      ]
    },
    {
      "cell_type": "markdown",
      "metadata": {
        "id": "g2TC1QJeHF92"
      },
      "source": [
        "## Process the 'Age' feature\n",
        "\n",
        "Check if `Age` has any missing values."
      ]
    },
    {
      "cell_type": "code",
      "execution_count": null,
      "metadata": {
        "id": "5AL9eVZLHF92",
        "outputId": "3eaccb90-be89-42a1-ba13-8864bad480f6"
      },
      "outputs": [
        {
          "data": {
            "text/plain": [
              "175"
            ]
          },
          "execution_count": 35,
          "metadata": {},
          "output_type": "execute_result"
        }
      ],
      "source": [
        "df.Age.isna().sum()"
      ]
    },
    {
      "cell_type": "markdown",
      "metadata": {
        "id": "DTDRS6R7HF93"
      },
      "source": [
        "Let's fill in the blanks with the median `Age` value."
      ]
    },
    {
      "cell_type": "code",
      "execution_count": null,
      "metadata": {
        "id": "xQ_6Q_T8HF93"
      },
      "outputs": [],
      "source": [
        "median_age = df['Age'].median()\n",
        "\n",
        "df['Age'].fillna(median_age, inplace=True)"
      ]
    },
    {
      "cell_type": "markdown",
      "metadata": {
        "id": "mm2G3LUQHF93"
      },
      "source": [
        "Let's plot the age distribution of the passengers."
      ]
    },
    {
      "cell_type": "code",
      "execution_count": null,
      "metadata": {
        "id": "VbkQjuEqHF93"
      },
      "outputs": [],
      "source": [
        "sns.distplot(df['Age'], kde=False)\n",
        "plt.show()"
      ]
    },
    {
      "cell_type": "markdown",
      "metadata": {
        "id": "N2i1DFV7HF94"
      },
      "source": [
        "We can also look at the age distribution of `Pclass`."
      ]
    },
    {
      "cell_type": "code",
      "execution_count": null,
      "metadata": {
        "id": "SZW1bS6yHF94",
        "outputId": "8732086c-3333-4716-c453-e52e7e63bf9a"
      },
      "outputs": [
        {
          "data": {
            "image/png": "[encoded data removed]",
            "text/plain": [
              "<Figure size 372x300 with 1 Axes>"
            ]
          },
          "metadata": {},
          "output_type": "display_data"
        }
      ],
      "source": [
        "import seaborn as sns\n",
        "\n",
        "facet = sns.FacetGrid(data=df, hue=\"Pclass\", legend_out=True)\n",
        "facet = facet.map(sns.kdeplot, \"Age\")\n",
        "facet.add_legend();"
      ]
    },
    {
      "cell_type": "markdown",
      "metadata": {
        "id": "kaCFdIyfHF95"
      },
      "source": [
        "### Process the 'Fare' feature (0.5pt)\n",
        "\n",
        "1) Check if there are any missing values in `Fare`\n",
        "\n",
        "2) If there are missing values, fill them with the _median_ value of `Fare`"
      ]
    },
    {
      "cell_type": "code",
      "execution_count": null,
      "metadata": {
        "scrolled": true,
        "id": "1cXr2LwGHF95"
      },
      "outputs": [],
      "source": [
        "# your code here\n",
        "print(df['Fare'].isna().sum())\n",
        "if df['Fare'].isna().sum() > 0:\n",
        "  median_fare = df['Fare'].median()\n",
        "  df['Fare'].fillna(median_fare, inplace=True)"
      ]
    },
    {
      "cell_type": "markdown",
      "metadata": {
        "id": "iSbpU50CHF95"
      },
      "source": [
        "### Process the 'Pclass' feature\n",
        "\n",
        "Are there any missing values in `Pclass`?"
      ]
    },
    {
      "cell_type": "code",
      "execution_count": null,
      "metadata": {
        "id": "4BsvVGtFHF95",
        "outputId": "abf1ade9-e787-4d18-a386-8ae22db7f698"
      },
      "outputs": [
        {
          "data": {
            "text/plain": [
              "3.0    485\n",
              "1.0    216\n",
              "2.0    183\n",
              "Name: Pclass, dtype: int64"
            ]
          },
          "execution_count": 47,
          "metadata": {},
          "output_type": "execute_result"
        }
      ],
      "source": [
        "df['Pclass'].value_counts(dropna=False)"
      ]
    },
    {
      "cell_type": "markdown",
      "metadata": {
        "id": "Ry9wUoL3HF96"
      },
      "source": [
        "### Task 8 (0.5pt)\n",
        "Draw a histogram of survival rates as a function of `Pclass`."
      ]
    },
    {
      "cell_type": "code",
      "execution_count": null,
      "metadata": {
        "id": "Tn_SC_TpHF96"
      },
      "outputs": [],
      "source": [
        "#your code here\n",
        "survival_rates = df.groupby('Pclass')['Survived'].mean()\n",
        "sns.barplot(x=survival_rates.index, y=survival_rates.values)\n",
        "plt.xlabel('Pclass')\n",
        "plt.ylabel('Survival Rate')\n",
        "plt.title('Survival Rates by Pclass')\n",
        "plt.show()"
      ]
    },
    {
      "cell_type": "markdown",
      "metadata": {
        "id": "_p1zF9sHHF96"
      },
      "source": [
        "### Process the feature 'SibSp' (number of siblings, husbands, wives)\n",
        "\n",
        "Are there any missing values in `SibSp`?"
      ]
    },
    {
      "cell_type": "code",
      "execution_count": null,
      "metadata": {
        "id": "fyNjL_noHF96"
      },
      "outputs": [],
      "source": [
        "# your code here\n",
        "df['SibSp'].isna().sum()"
      ]
    },
    {
      "cell_type": "markdown",
      "metadata": {
        "id": "Snehz13GHF97"
      },
      "source": [
        "### Task 9 (0.5 pt)\n",
        "The `PassengerId` column is categorical and does not carry important information, delete it."
      ]
    },
    {
      "cell_type": "code",
      "execution_count": null,
      "metadata": {
        "id": "RJJAJ4vmHF97"
      },
      "outputs": [],
      "source": [
        "#your code here\n",
        "df.drop('PassengerId', axis=1, inplace=True)"
      ]
    },
    {
      "cell_type": "markdown",
      "metadata": {
        "id": "pZ8_lycHHF97"
      },
      "source": [
        "## **Additional Task - 2.5 pt**  \n",
        "\n",
        "You have now gained experience in **handling missing data, encoding categorical features, and visualizing data**. Let’s put everything together and apply your skills to a **real-world challenge**.  \n",
        "\n",
        "---  \n",
        "\n",
        "**You Are a Loan Officer at a Major Bank**\n",
        "\n",
        "Your job is to **analyze loan approval trends** to help your bank make better lending decisions.  \n",
        "\n",
        "**The Manager's Belief:**  \n",
        "Your manager believes that **people with higher credit scores** always get approved for loans.  \n",
        "\n",
        "**However**, you think other factors (like employment status and income) play a big role too! To prove your point, you need to **analyze the data and create visualizations**.  \n",
        "\n",
        "---  \n",
        "\n",
        "# Your Task:\n",
        "\n",
        "To convince your manager, you need to:  \n",
        "\n",
        "1 - **Clean the dataset** by handling missing values. (Credit Score)  \n",
        "2 - **Convert categorical values into numbers** using encoding. (Emplyment Status)  \n",
        "3 - **Create a box plot** comparing Credit Scores between approved and denied loans.  \n",
        "4 - **Comment on the results** — does Credit Score **guarantee** approval, or do other factors matter?  \n",
        "\n",
        "---  \n",
        "\n",
        "**Important Details:**  \n",
        "- Customers **without a recorded Credit Score** should be removed from the analysis.  \n",
        "- Your manager **does not trust loans under $1,000**, so exclude them from the dataset.  \n"
      ]
    },
    {
      "cell_type": "code",
      "execution_count": null,
      "metadata": {
        "id": "2VdTX-1uHF98",
        "outputId": "7b24be80-fc04-4cac-c2c5-7776ee959de7"
      },
      "outputs": [
        {
          "name": "stderr",
          "output_type": "stream",
          "text": [
            "C:\\Users\\User\\AppData\\Local\\Temp\\ipykernel_36504\\353269471.py:14: FutureWarning: Downcasting behavior in `replace` is deprecated and will be removed in a future version. To retain the old behavior, explicitly call `result.infer_objects(copy=False)`. To opt-in to the future behavior, set `pd.set_option('future.no_silent_downcasting', True)`\n",
            "  df['Employment_Status'] = df['Employment_Status'].replace({'Unemployed': 0, 'Employed': 1})\n"
          ]
        },
        {
          "data": {
            "image/png": "[encoded data removed]",
            "text/plain": [
              "<Figure size 800x500 with 1 Axes>"
            ]
          },
          "metadata": {},
          "output_type": "display_data"
        }
      ],
      "source": [
        "# Load the dataset\n",
        "\n",
        "# Remove rows where Credit Score is missing\n",
        "\n",
        "# Remove loans under $1,000\n",
        "\n",
        "# Convert Employment Status into numbers\n",
        "\n",
        "# Create box plot"
      ]
    },
    {
      "cell_type": "markdown",
      "metadata": {
        "id": "FcBDaeX0HF98"
      },
      "source": [
        "# Theoretical Questions- 2.5 pt\n",
        "\n",
        "Answer the following questions based on your coding implementation and analysis in this assignment.  \n",
        "\n",
        "1 - Why do we use `.fillna()` with `median()` for numerical values and `mode()` for categorical values when handling missing data?   \n",
        "\n",
        "2 - What is the purpose of replacing categorical text values (e.g., \"Employed\", \"Unemployed\") with numbers in the dataset? Describe how this affects machine learning models and why `.replace()` or one-hot encoding is used.  \n",
        "\n",
        "3 - In the box plot comparing Credit Score and Loan Approval, what does the distribution tell us?\n",
        "\n",
        "4 - Why do we exclude loans under $1,000 from the dataset? How might this impact our analysis?  \n",
        "\n",
        "5 - What would happen if we didn’t remove missing values from the Credit Score column before visualization?\n"
      ]
    },
    {
      "cell_type": "code",
      "execution_count": null,
      "metadata": {
        "id": "Yn9ERIKDHF99"
      },
      "outputs": [],
      "source": [
        "1. Using the median to fill missing numerical values helps to preserve the overall distribution of the data and minimizes the impact of extreme values, Categorical values (using mode()): The mode represents the most frequent category in a categorical variable. Filling missing categorical values with the mode ensures that we are using the most common category as a substitute\n",
        "2. Purpose: Most machine learning algorithms work with numerical data. Replacing categorical text values with numbers allows these algorithms to process and understand the categorical features. Effect on machine learning models: Numerical representation of categorical features enables models to learn patterns and relationships between these features and the target variable. Without this conversion, many algorithms would not be able to utilize the information contained in categorical features\n",
        "3. The box plot comparing Credit Score and Loan Approval would visually show the distribution of credit scores for approved and denied loans.\n",
        "4. Loans under $1,000 might be excluded because they are considered less representative of typical loan applications or might have different approval criteria.\n",
        "5. If missing values in the Credit Score column are not handled before visualization, several issues could arise:\n",
        "firstly Incomplete visualization, Distorted insights and Errors in calculations"
      ]
    }
  ],
  "metadata": {
    "kernelspec": {
      "display_name": "Python 3 (ipykernel)",
      "language": "python",
      "name": "python3"
    },
    "language_info": {
      "codemirror_mode": {
        "name": "ipython",
        "version": 3
      },
      "file_extension": ".py",
      "mimetype": "text/x-python",
      "name": "python",
      "nbconvert_exporter": "python",
      "pygments_lexer": "ipython3",
      "version": "3.12.6"
    },
    "colab": {
      "provenance": [],
      "include_colab_link": true
    }
  },
  "nbformat": 4,
  "nbformat_minor": 0
}